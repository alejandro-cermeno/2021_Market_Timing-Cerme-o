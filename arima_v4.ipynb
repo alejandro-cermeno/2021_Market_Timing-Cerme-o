{
  "nbformat": 4,
  "nbformat_minor": 0,
  "metadata": {
    "colab": {
      "name": "arima",
      "provenance": [],
      "collapsed_sections": [
        "mCP31AjbPLCf",
        "wy0QHELcmAW-",
        "Mr0YR8O9zYSs",
        "le9FDIPPe4or"
      ],
      "authorship_tag": "ABX9TyPwJtm29KS9qCbnSbbb2HtH",
      "include_colab_link": true
    },
    "kernelspec": {
      "name": "python3",
      "display_name": "Python 3"
    },
    "language_info": {
      "name": "python"
    },
    "accelerator": "TPU"
  },
  "cells": [
    {
      "cell_type": "markdown",
      "metadata": {
        "id": "view-in-github",
        "colab_type": "text"
      },
      "source": [
        "<a href=\"https://colab.research.google.com/github/alejandro-cermeno/2021_Market_Timing-Cermeno/blob/main/arima_v4.ipynb\" target=\"_parent\"><img src=\"https://colab.research.google.com/assets/colab-badge.svg\" alt=\"Open In Colab\"/></a>"
      ]
    },
    {
      "cell_type": "markdown",
      "metadata": {
        "id": "mCP31AjbPLCf"
      },
      "source": [
        "\n",
        "### El modelo ARIMA de Box and Jenkins (1970)\n",
        "\n",
        "Alejandro Cermeño \n",
        "\n",
        "06/2021"
      ]
    },
    {
      "cell_type": "markdown",
      "metadata": {
        "id": "2b2R4-mnqfkO"
      },
      "source": [
        "## Procedimientos preliminares\n",
        "\n",
        "\n",
        "\n",
        "1.   Se importan las librerías necesarias\n",
        "2.   Se importan las series de precios $\\left(y_{t}\\right)$\n",
        "3.   Se calcula el logaritmo de los retornos  $y_{t}=100\\times\\left[\\log\\left(p_{t}\\right)-\\log\\left(p_{t-1}\\right)\\right]$\n",
        "4.   Estadísticos descriptivos\n",
        "5.   Se configura el output en ${\\LaTeX}$"
      ]
    },
    {
      "cell_type": "code",
      "metadata": {
        "id": "bZd1_czRadf_"
      },
      "source": [
        "%%capture\n",
        "!pip install pmdarima\n",
        "!pip install arch"
      ],
      "execution_count": null,
      "outputs": []
    },
    {
      "cell_type": "code",
      "metadata": {
        "colab": {
          "base_uri": "https://localhost:8080/",
          "height": 910
        },
        "id": "MIel4eW3PUOq",
        "outputId": "e2c4ba7d-fab9-44ca-ff09-28d9917af56e"
      },
      "source": [
        "# Configuración premiliminar\n",
        "\n",
        "    # Librerias necesarias\n",
        "import os\n",
        "import pandas as pd\n",
        "import numpy as np\n",
        "from IPython.display import Image\n",
        "import matplotlib.pyplot as plt\n",
        "import matplotlib.gridspec as gridspec\n",
        "from matplotlib import pyplot\n",
        "import math\n",
        "import warnings\n",
        "warnings.filterwarnings('ignore')\n",
        "import statsmodels.api as sm\n",
        "from statsmodels.tsa.stattools import adfuller\n",
        "from statsmodels.graphics.tsaplots import plot_acf,plot_pacf\n",
        "from statsmodels.tsa.arima_model import ARIMA\n",
        "from sklearn.metrics import  mean_squared_error\n",
        "from sklearn.model_selection import train_test_split\n",
        "import pmdarima # Taylor (2017)\n",
        "import arch     # Sheppard (2021)\n",
        "from google.colab import drive\n",
        "    # Directorio \n",
        "#drive.mount('/content/drive')\n",
        "#os.chdir('/content/drive/MyDrive/TESIS/2021_Market_Timing-Cermeño/Code')\n",
        "\n",
        "\n",
        "\n",
        "# Obtencion de datos\n",
        "ruta_git = 'https://git.io/Jnovh'\n",
        "series = pd.read_excel(ruta_git, sheet_name = 'source', index_col = 0)\n",
        "\n",
        "\n",
        "\n",
        "# Transformacion a retornos logarítmicos\n",
        "logret_series = (100 * (np.log(series) - np.log(series.shift(1))))\n",
        "\n",
        "\n",
        "\n",
        "# Tabla de estadisticos descriptivos\n",
        "descriptivos = pd.concat([logret_series.describe()\\\n",
        "                          .loc[['count','std', 'min', 'max']].T, \n",
        "                          series.skew().rename('skew'),series.kurt().\\\n",
        "                          rename('kurt')], axis=1).round(2)\n",
        "    # Se agregan las fechas de inicio\n",
        "fecha_inicio = logret_series.apply(lambda logret_series: logret_series.first_valid_index())\n",
        "fecha_inicio = pd.DataFrame(fecha_inicio, columns=['Fecha Inicio'])\n",
        "    # Se agregan las fechas de fin\n",
        "fecha_fin = logret_series.apply(lambda logret_series: logret_series.last_valid_index())\n",
        "fecha_fin = pd.DataFrame(fecha_fin, columns=['Fecha Fin'])\n",
        "\n",
        "descriptivos = pd.concat([fecha_inicio, fecha_fin, descriptivos], axis = 1)\n",
        "\n",
        "    # Configuración del output\n",
        "print('Precio de cierre de los indices LATAM')\n",
        "display(series.head())\n",
        "print('')\n",
        "print('')\n",
        "print('Retornos de los indices LATAM')\n",
        "display(logret_series.head())\n",
        "print('')\n",
        "print('')\n",
        "print('Estadísticos descriptivos de los retornos')\n",
        "display(descriptivos)\n",
        "print('')\n",
        "print('')\n",
        "print('LaTeX - Estadísticos descriptivos de los retornos')\n",
        "print(descriptivos.to_latex()) # Se configura el output a LaTeX"
      ],
      "execution_count": null,
      "outputs": [
        {
          "output_type": "stream",
          "text": [
            "Precio de cierre de los indices LATAM\n"
          ],
          "name": "stdout"
        },
        {
          "output_type": "display_data",
          "data": {
            "text/html": [
              "<div>\n",
              "<style scoped>\n",
              "    .dataframe tbody tr th:only-of-type {\n",
              "        vertical-align: middle;\n",
              "    }\n",
              "\n",
              "    .dataframe tbody tr th {\n",
              "        vertical-align: top;\n",
              "    }\n",
              "\n",
              "    .dataframe thead th {\n",
              "        text-align: right;\n",
              "    }\n",
              "</style>\n",
              "<table border=\"1\" class=\"dataframe\">\n",
              "  <thead>\n",
              "    <tr style=\"text-align: right;\">\n",
              "      <th></th>\n",
              "      <th>ipsa</th>\n",
              "      <th>mexbol</th>\n",
              "      <th>spblpgpt</th>\n",
              "    </tr>\n",
              "    <tr>\n",
              "      <th>Dates</th>\n",
              "      <th></th>\n",
              "      <th></th>\n",
              "      <th></th>\n",
              "    </tr>\n",
              "  </thead>\n",
              "  <tbody>\n",
              "    <tr>\n",
              "      <th>1990-08-08</th>\n",
              "      <td>92.18</td>\n",
              "      <td>NaN</td>\n",
              "      <td>NaN</td>\n",
              "    </tr>\n",
              "    <tr>\n",
              "      <th>1990-08-09</th>\n",
              "      <td>92.10</td>\n",
              "      <td>NaN</td>\n",
              "      <td>NaN</td>\n",
              "    </tr>\n",
              "    <tr>\n",
              "      <th>1990-08-10</th>\n",
              "      <td>93.28</td>\n",
              "      <td>NaN</td>\n",
              "      <td>NaN</td>\n",
              "    </tr>\n",
              "    <tr>\n",
              "      <th>1990-08-13</th>\n",
              "      <td>93.51</td>\n",
              "      <td>NaN</td>\n",
              "      <td>NaN</td>\n",
              "    </tr>\n",
              "    <tr>\n",
              "      <th>1990-08-14</th>\n",
              "      <td>93.64</td>\n",
              "      <td>NaN</td>\n",
              "      <td>NaN</td>\n",
              "    </tr>\n",
              "  </tbody>\n",
              "</table>\n",
              "</div>"
            ],
            "text/plain": [
              "             ipsa  mexbol  spblpgpt\n",
              "Dates                              \n",
              "1990-08-08  92.18     NaN       NaN\n",
              "1990-08-09  92.10     NaN       NaN\n",
              "1990-08-10  93.28     NaN       NaN\n",
              "1990-08-13  93.51     NaN       NaN\n",
              "1990-08-14  93.64     NaN       NaN"
            ]
          },
          "metadata": {
            "tags": []
          }
        },
        {
          "output_type": "stream",
          "text": [
            "\n",
            "\n",
            "Retornos de los indices LATAM\n"
          ],
          "name": "stdout"
        },
        {
          "output_type": "display_data",
          "data": {
            "text/html": [
              "<div>\n",
              "<style scoped>\n",
              "    .dataframe tbody tr th:only-of-type {\n",
              "        vertical-align: middle;\n",
              "    }\n",
              "\n",
              "    .dataframe tbody tr th {\n",
              "        vertical-align: top;\n",
              "    }\n",
              "\n",
              "    .dataframe thead th {\n",
              "        text-align: right;\n",
              "    }\n",
              "</style>\n",
              "<table border=\"1\" class=\"dataframe\">\n",
              "  <thead>\n",
              "    <tr style=\"text-align: right;\">\n",
              "      <th></th>\n",
              "      <th>ipsa</th>\n",
              "      <th>mexbol</th>\n",
              "      <th>spblpgpt</th>\n",
              "    </tr>\n",
              "    <tr>\n",
              "      <th>Dates</th>\n",
              "      <th></th>\n",
              "      <th></th>\n",
              "      <th></th>\n",
              "    </tr>\n",
              "  </thead>\n",
              "  <tbody>\n",
              "    <tr>\n",
              "      <th>1990-08-08</th>\n",
              "      <td>NaN</td>\n",
              "      <td>NaN</td>\n",
              "      <td>NaN</td>\n",
              "    </tr>\n",
              "    <tr>\n",
              "      <th>1990-08-09</th>\n",
              "      <td>-0.086824</td>\n",
              "      <td>NaN</td>\n",
              "      <td>NaN</td>\n",
              "    </tr>\n",
              "    <tr>\n",
              "      <th>1990-08-10</th>\n",
              "      <td>1.273078</td>\n",
              "      <td>NaN</td>\n",
              "      <td>NaN</td>\n",
              "    </tr>\n",
              "    <tr>\n",
              "      <th>1990-08-13</th>\n",
              "      <td>0.246266</td>\n",
              "      <td>NaN</td>\n",
              "      <td>NaN</td>\n",
              "    </tr>\n",
              "    <tr>\n",
              "      <th>1990-08-14</th>\n",
              "      <td>0.138926</td>\n",
              "      <td>NaN</td>\n",
              "      <td>NaN</td>\n",
              "    </tr>\n",
              "  </tbody>\n",
              "</table>\n",
              "</div>"
            ],
            "text/plain": [
              "                ipsa  mexbol  spblpgpt\n",
              "Dates                                 \n",
              "1990-08-08       NaN     NaN       NaN\n",
              "1990-08-09 -0.086824     NaN       NaN\n",
              "1990-08-10  1.273078     NaN       NaN\n",
              "1990-08-13  0.246266     NaN       NaN\n",
              "1990-08-14  0.138926     NaN       NaN"
            ]
          },
          "metadata": {
            "tags": []
          }
        },
        {
          "output_type": "stream",
          "text": [
            "\n",
            "\n",
            "Estadísticos descriptivos de los retornos\n"
          ],
          "name": "stdout"
        },
        {
          "output_type": "display_data",
          "data": {
            "text/html": [
              "<div>\n",
              "<style scoped>\n",
              "    .dataframe tbody tr th:only-of-type {\n",
              "        vertical-align: middle;\n",
              "    }\n",
              "\n",
              "    .dataframe tbody tr th {\n",
              "        vertical-align: top;\n",
              "    }\n",
              "\n",
              "    .dataframe thead th {\n",
              "        text-align: right;\n",
              "    }\n",
              "</style>\n",
              "<table border=\"1\" class=\"dataframe\">\n",
              "  <thead>\n",
              "    <tr style=\"text-align: right;\">\n",
              "      <th></th>\n",
              "      <th>Fecha Inicio</th>\n",
              "      <th>Fecha Fin</th>\n",
              "      <th>count</th>\n",
              "      <th>std</th>\n",
              "      <th>min</th>\n",
              "      <th>max</th>\n",
              "      <th>skew</th>\n",
              "      <th>kurt</th>\n",
              "    </tr>\n",
              "  </thead>\n",
              "  <tbody>\n",
              "    <tr>\n",
              "      <th>ipsa</th>\n",
              "      <td>1990-08-09</td>\n",
              "      <td>2021-05-31</td>\n",
              "      <td>8038.0</td>\n",
              "      <td>1.14</td>\n",
              "      <td>-15.22</td>\n",
              "      <td>11.80</td>\n",
              "      <td>0.28</td>\n",
              "      <td>-1.41</td>\n",
              "    </tr>\n",
              "    <tr>\n",
              "      <th>mexbol</th>\n",
              "      <td>1994-03-31</td>\n",
              "      <td>2021-05-31</td>\n",
              "      <td>7088.0</td>\n",
              "      <td>1.40</td>\n",
              "      <td>-14.31</td>\n",
              "      <td>12.15</td>\n",
              "      <td>0.04</td>\n",
              "      <td>-1.65</td>\n",
              "    </tr>\n",
              "    <tr>\n",
              "      <th>spblpgpt</th>\n",
              "      <td>2002-02-07</td>\n",
              "      <td>2021-05-31</td>\n",
              "      <td>5038.0</td>\n",
              "      <td>1.34</td>\n",
              "      <td>-13.29</td>\n",
              "      <td>12.82</td>\n",
              "      <td>-0.58</td>\n",
              "      <td>-0.96</td>\n",
              "    </tr>\n",
              "  </tbody>\n",
              "</table>\n",
              "</div>"
            ],
            "text/plain": [
              "         Fecha Inicio  Fecha Fin   count   std    min    max  skew  kurt\n",
              "ipsa       1990-08-09 2021-05-31  8038.0  1.14 -15.22  11.80  0.28 -1.41\n",
              "mexbol     1994-03-31 2021-05-31  7088.0  1.40 -14.31  12.15  0.04 -1.65\n",
              "spblpgpt   2002-02-07 2021-05-31  5038.0  1.34 -13.29  12.82 -0.58 -0.96"
            ]
          },
          "metadata": {
            "tags": []
          }
        },
        {
          "output_type": "stream",
          "text": [
            "\n",
            "\n",
            "LaTeX - Estadísticos descriptivos de los retornos\n",
            "\\begin{tabular}{lllrrrrrr}\n",
            "\\toprule\n",
            "{} & Fecha Inicio &  Fecha Fin &   count &   std &    min &    max &  skew &  kurt \\\\\n",
            "\\midrule\n",
            "ipsa     &   1990-08-09 & 2021-05-31 &  8038.0 &  1.14 & -15.22 &  11.80 &  0.28 & -1.41 \\\\\n",
            "mexbol   &   1994-03-31 & 2021-05-31 &  7088.0 &  1.40 & -14.31 &  12.15 &  0.04 & -1.65 \\\\\n",
            "spblpgpt &   2002-02-07 & 2021-05-31 &  5038.0 &  1.34 & -13.29 &  12.82 & -0.58 & -0.96 \\\\\n",
            "\\bottomrule\n",
            "\\end{tabular}\n",
            "\n"
          ],
          "name": "stdout"
        }
      ]
    },
    {
      "cell_type": "markdown",
      "metadata": {
        "id": "GqZyU1Q6lm2s"
      },
      "source": [
        "# **Gráficos**\n"
      ]
    },
    {
      "cell_type": "code",
      "metadata": {
        "id": "A3w0tqvdf7aC"
      },
      "source": [
        "def graficos(df, titulos):\n",
        "\n",
        "  from math import ceil         # Aproxima los decimales al inmediato superior\n",
        "\n",
        "  # Numero de filas y columnas\n",
        "  nrows = ceil(df.shape[1] / 2) # Las filas serán la cantidad de series entre 2\n",
        "  ncols = 2                     # El gráfico solo tendrá dos columnas\n",
        "\n",
        "  fig, axes = plt.subplots(nrows, ncols, figsize=(16, 8))\n",
        "  plt.subplots_adjust(wspace=0.3, hspace=0.3)\n",
        "  for col, ax in zip(df.columns, axes.flatten()):\n",
        "    ax.plot(df.index, df[col])\n",
        "    ax.set_xlabel(titulos[df.columns.get_loc(col)], fontsize=15)\n",
        "    ax.grid()\n",
        "\n",
        "  axes[1,nrows-1].set_axis_off() # Según sea el caso, elimina la subfigura extra"
      ],
      "execution_count": null,
      "outputs": []
    },
    {
      "cell_type": "markdown",
      "metadata": {
        "id": "iE3Ca8j6lqiq"
      },
      "source": [
        "**Gráfico del precio de los indices bursátiles LATAM**\n",
        "\n",
        "<div style=\"text-align: right\">Se toma el precio de cierre en frecuencia diaria para los índices bursátiles de los mercados latinoamericanos de Bloomberg Financial Data. Todas las series terminan el 31 junio de 2021 e inician en diferentes fechas segun según disponibilidad: 9 de agosto de 1990 (Chile), 31 de marzo de 1994 (México) y 7 de febrero de 2002 (Perú). </div>"
      ]
    },
    {
      "cell_type": "code",
      "metadata": {
        "id": "lcP3uMZElujn",
        "colab": {
          "base_uri": "https://localhost:8080/",
          "height": 502
        },
        "outputId": "2f6a1f42-293f-4065-bce2-2af92f0a5c67"
      },
      "source": [
        "paises = ['(a) Chile', '(b) México', '(c) Perú']\n",
        "graficos(series, paises)\n",
        "\n",
        "plt.savefig('grafico_1_precios')"
      ],
      "execution_count": null,
      "outputs": [
        {
          "output_type": "display_data",
          "data": {
            "image/png": "[encoded data removed]",
            "text/plain": [
              "<Figure size 1152x576 with 4 Axes>"
            ]
          },
          "metadata": {
            "tags": [],
            "needs_background": "light"
          }
        }
      ]
    },
    {
      "cell_type": "markdown",
      "metadata": {
        "id": "0VdXszc8VYIU"
      },
      "source": [
        "**Gráfico de los retornos de los índices bursátiles LATAM**\n",
        "\n",
        "<div style=\"text-align: right\"> Sea $p_{t}$ el precio en el periodo t, el retorno se define como la variación porcentual en logaritmos del precio según $y_{t}=100\\times\\left[\\log\\left(p_{t}\\right)-\\log\\left(p_{t-1}\\right)\\right]$. </div>\n"
      ]
    },
    {
      "cell_type": "code",
      "metadata": {
        "colab": {
          "base_uri": "https://localhost:8080/",
          "height": 502
        },
        "id": "r8Dt9hfbpUIJ",
        "outputId": "279710ee-f7a3-4e43-fa70-0e2793366983"
      },
      "source": [
        "paises = ['(a) Chile', '(b) México', '(c) Perú']\n",
        "graficos(logret_series, paises)\n",
        "\n",
        "plt.savefig('grafico_2_retornos')"
      ],
      "execution_count": null,
      "outputs": [
        {
          "output_type": "display_data",
          "data": {
            "image/png": "[encoded data removed]",
            "text/plain": [
              "<Figure size 1152x576 with 4 Axes>"
            ]
          },
          "metadata": {
            "tags": [],
            "needs_background": "light"
          }
        }
      ]
    },
    {
      "cell_type": "markdown",
      "metadata": {
        "id": "wy0QHELcmAW-"
      },
      "source": [
        "# **Estacionariedad de las series**"
      ]
    },
    {
      "cell_type": "markdown",
      "metadata": {
        "id": "mumvJE_YoSem"
      },
      "source": [
        "**Prueba de Dickey-Fuller Aumentada (ADF)**\n",
        "\n",
        "Para obtener inferencias válidas se verifica la estacionariedad de las series mediante la pueba de de raíz unitaria de Dickey-Fuller Aumentada (ADF). Los resultados indican que los retornos de los mercados seleccionados son estacionarios. Se utiliza la librería [statsmodels](https://www.statsmodels.org/stable/index.html) de Seabold y Perktold (2010).\n",
        "\n",
        "* Seabold, Skipper, and Josef Perktold. “Statsmodels: Econometric and Statistical Modeling with Python.” 9th Python in Science Conference, 2010.\n",
        "\n",
        "\n"
      ]
    },
    {
      "cell_type": "code",
      "metadata": {
        "id": "Y68OMnFjmGI9",
        "colab": {
          "base_uri": "https://localhost:8080/"
        },
        "outputId": "a3486f30-57c9-42c4-981b-c1f3fe3354ea"
      },
      "source": [
        "# Inspeccion de estacionariedad\n",
        "\n",
        "      # Prueba ADF\n",
        "def prueba_adfuller(df, paises):\n",
        "\n",
        "  '''Esta función configura el formato del output de la función adfuller()'''\n",
        "\n",
        "  for i in range(df.shape[1]):\n",
        "    print('Para', paises[i])\n",
        "    result = adfuller(df.iloc[:,i].dropna())\n",
        "    labels = ['Estadistico ADF','p-value','# rezagos','# Observaciones']\n",
        "    for value,label in zip(result,labels):\n",
        "      print(label+' : '+str(value) )\n",
        "    if result[1] <= 0.05: # Si p-value menor o igual a 0.5\n",
        "      print('')\n",
        "      print(\"Se rechaza la H_0, la serie es estacionaria\")\n",
        "      print('')\n",
        "      print('')\n",
        "    else:\n",
        "      print('')\n",
        "      print(\"Evidencia debil contra la H_0, la serie no es estacionaria\")\n",
        "      print('')\n",
        "      print('')\n",
        "\n",
        "#\n",
        "\n",
        "# Prueba ADF para las series en niveles\n",
        "paises = ['MEXICO', 'PERU', 'CHILE']\n",
        "prueba_adfuller(series, paises)"
      ],
      "execution_count": null,
      "outputs": [
        {
          "output_type": "stream",
          "text": [
            "Para MEXICO\n",
            "Estadistico ADF : -1.0112406407898937\n",
            "p-value : 0.7491424891508915\n",
            "# rezagos : 36\n",
            "# Observaciones : 8002\n",
            "\n",
            "Evidencia debil contra la H_0, la serie no es estacionaria\n",
            "\n",
            "\n",
            "Para PERU\n",
            "Estadistico ADF : -0.397656995604832\n",
            "p-value : 0.9104892408108866\n",
            "# rezagos : 6\n",
            "# Observaciones : 7082\n",
            "\n",
            "Evidencia debil contra la H_0, la serie no es estacionaria\n",
            "\n",
            "\n",
            "Para CHILE\n",
            "Estadistico ADF : -1.7925044502470178\n",
            "p-value : 0.3841893247080208\n",
            "# rezagos : 32\n",
            "# Observaciones : 5006\n",
            "\n",
            "Evidencia debil contra la H_0, la serie no es estacionaria\n",
            "\n",
            "\n"
          ],
          "name": "stdout"
        }
      ]
    },
    {
      "cell_type": "code",
      "metadata": {
        "colab": {
          "base_uri": "https://localhost:8080/"
        },
        "id": "RAI1PtE8SFq5",
        "outputId": "8c00d81f-1152-47e4-9a78-06568d0aebab"
      },
      "source": [
        "# Prueba ADF para las series en retornos\n",
        "paises = ['MEXICO', 'PERU', 'CHILE']\n",
        "prueba_adfuller(series, paises)"
      ],
      "execution_count": null,
      "outputs": [
        {
          "output_type": "stream",
          "text": [
            "Para MEXICO\n",
            "Estadistico ADF : -1.0112406407898937\n",
            "p-value : 0.7491424891508915\n",
            "# rezagos : 36\n",
            "# Observaciones : 8002\n",
            "\n",
            "Evidencia debil contra la H_0, la serie no es estacionaria\n",
            "\n",
            "\n",
            "Para PERU\n",
            "Estadistico ADF : -0.397656995604832\n",
            "p-value : 0.9104892408108866\n",
            "# rezagos : 6\n",
            "# Observaciones : 7082\n",
            "\n",
            "Evidencia debil contra la H_0, la serie no es estacionaria\n",
            "\n",
            "\n",
            "Para CHILE\n",
            "Estadistico ADF : -1.7925044502470178\n",
            "p-value : 0.3841893247080208\n",
            "# rezagos : 32\n",
            "# Observaciones : 5006\n",
            "\n",
            "Evidencia debil contra la H_0, la serie no es estacionaria\n",
            "\n",
            "\n"
          ],
          "name": "stdout"
        }
      ]
    },
    {
      "cell_type": "markdown",
      "metadata": {
        "id": "n-eUwCiN7f6c"
      },
      "source": [
        "# **Modelo ARIMA-GARCH**\n",
        "\n",
        "1.   Identificación del modelo\n",
        "2.   Estimación de parámetros\n",
        "\n",
        "$$\\hat{r}_{t}=\\mu+\\sum_{i=1}^{p}a_{i}y_{t-i}+\\sum_{i=1}^{q}b_{i}\\epsilon_{t-i}+\\epsilon_{t}$$\n",
        "\n",
        "\n",
        "$$\\epsilon_{t}=\\sqrt{\\sigma_{t}z_{t}},\\,\\sigma^{2}=\\omega+\\sum_{i=1}^{p}\\alpha_{i}\\epsilon_{t-i}^{2}+\\sum_{i=1}^{q}\\beta_{i}\\sigma_{t-i}^{2}$$\n"
      ]
    },
    {
      "cell_type": "markdown",
      "metadata": {
        "id": "iPKGZfhnAgts"
      },
      "source": [
        "Se utilizan las librerias [pmdarima](http://alkaline-ml.com/pmdarima/) de Taylor (2017) y [arch](https://zenodo.org/record/4607195#.YNT91qhKjIU) de Sheppard (2021) para el modelo ARIMA y GARCH respectivamente.\n",
        "\n",
        "\n",
        "*   Taylor Smith (2017). pmdarima: ARIMA estimators for Python.\n",
        "\n",
        "*   Kevin Sheppard (2021). bashtage/arch: Release 4.18 (Version v4.18). Zenodo.\n",
        "\n",
        "\n",
        "\n",
        "\n"
      ]
    },
    {
      "cell_type": "code",
      "metadata": {
        "id": "3kulc6W0AcCA"
      },
      "source": [
        "%%capture\n",
        "!pip install arch"
      ],
      "execution_count": null,
      "outputs": []
    },
    {
      "cell_type": "code",
      "metadata": {
        "colab": {
          "base_uri": "https://localhost:8080/"
        },
        "id": "j_9A3gxcZ7hf",
        "outputId": "5e1c9e0b-387f-4719-a6da-f1b49f086fc5"
      },
      "source": [
        "# Se dividen las series en datos de entrenamiento y datos de prueba\n",
        "\n",
        "def entrenamiento_prueba(series):\n",
        "  ''' La función divide la serie ingresada en datos de entrenamiento (80%) y \n",
        "      datos de prueba (20%). En desarrollo...'''\n",
        "  entrenamiento = []\n",
        "  prueba = []\n",
        "  for i in range(series.shape[1]):\n",
        "    train, test = train_test_split(series.iloc[:,i].dropna(), \n",
        "                                   test_size = 0.2, \n",
        "                                   shuffle=False)\n",
        "  \n",
        "    print('###################', series.columns[i], '###################')\n",
        "    print('Train')\n",
        "    print('Inicio:', train.index[0].strftime('%d-%m-%Y'),\n",
        "          '| Fin:', train.index[-1].strftime('%d-%m-%Y'), \n",
        "          '| Observaciones', train.shape[0])\n",
        "    print('Test')\n",
        "    print('Inicio:', test.index[0].strftime('%d-%m-%Y'),\n",
        "          '| Fin:',test.index[-1].strftime('%d-%m-%Y'), \n",
        "          '| Observaciones', test.shape[0])\n",
        "    print('')\n",
        "\n",
        "entrenamiento_prueba(logret_series)"
      ],
      "execution_count": null,
      "outputs": [
        {
          "output_type": "stream",
          "text": [
            "################### ipsa ###################\n",
            "Train\n",
            "Inicio: 09-08-1990 | Fin: 01-04-2015 | Observaciones 6430\n",
            "Test\n",
            "Inicio: 02-04-2015 | Fin: 31-05-2021 | Observaciones 1608\n",
            "\n",
            "################### mexbol ###################\n",
            "Train\n",
            "Inicio: 31-03-1994 | Fin: 23-12-2015 | Observaciones 5670\n",
            "Test\n",
            "Inicio: 24-12-2015 | Fin: 31-05-2021 | Observaciones 1418\n",
            "\n",
            "################### spblpgpt ###################\n",
            "Train\n",
            "Inicio: 07-02-2002 | Fin: 19-07-2017 | Observaciones 4030\n",
            "Test\n",
            "Inicio: 20-07-2017 | Fin: 31-05-2021 | Observaciones 1008\n",
            "\n"
          ],
          "name": "stdout"
        }
      ]
    },
    {
      "cell_type": "markdown",
      "metadata": {
        "id": "5VOeuKTGZchY"
      },
      "source": [
        "### **Para Chile (IPSA)**"
      ]
    },
    {
      "cell_type": "code",
      "metadata": {
        "colab": {
          "base_uri": "https://localhost:8080/",
          "height": 527
        },
        "id": "cO1XWkatZb5t",
        "outputId": "abbf80e5-16e4-4270-a2f4-5ed4e6b4995c"
      },
      "source": [
        "train, test = train_test_split(logret_series.iloc[:,0].dropna(), test_size = 0.2, shuffle=False)\n",
        "\n",
        "observado = [x for x in train]\n",
        "proyectado = list()\n",
        "\n",
        "# Identificacion del modelo ARIMA\n",
        "modelo_arima = pmdarima.auto_arima(observado, test= 'adf', information_criterion = 'aic', alpha = 0.05)\n",
        "p, d, q = modelo_arima.order\n",
        "print('Componente AR = ', p, '| Componente I = ', d, ' | componente MA = ', q)\n",
        "residuos_arima = modelo_arima.arima_res_.resid # Residuos del modelo\n",
        "print('')\n",
        "# Resumen del modelo seleccionado\n",
        "modelo_arima.summary()"
      ],
      "execution_count": null,
      "outputs": [
        {
          "output_type": "stream",
          "text": [
            "Componente AR =  1 | Componente I =  0  | componente MA =  4\n",
            "\n"
          ],
          "name": "stdout"
        },
        {
          "output_type": "execute_result",
          "data": {
            "text/html": [
              "<table class=\"simpletable\">\n",
              "<caption>Statespace Model Results</caption>\n",
              "<tr>\n",
              "  <th>Dep. Variable:</th>           <td>y</td>        <th>  No. Observations:  </th>   <td>6430</td>   \n",
              "</tr>\n",
              "<tr>\n",
              "  <th>Model:</th>           <td>SARIMAX(1, 0, 4)</td> <th>  Log Likelihood     </th> <td>-9756.073</td>\n",
              "</tr>\n",
              "<tr>\n",
              "  <th>Date:</th>            <td>Fri, 25 Jun 2021</td> <th>  AIC                </th> <td>19526.145</td>\n",
              "</tr>\n",
              "<tr>\n",
              "  <th>Time:</th>                <td>00:25:31</td>     <th>  BIC                </th> <td>19573.526</td>\n",
              "</tr>\n",
              "<tr>\n",
              "  <th>Sample:</th>                  <td>0</td>        <th>  HQIC               </th> <td>19542.542</td>\n",
              "</tr>\n",
              "<tr>\n",
              "  <th></th>                      <td> - 6430</td>     <th>                     </th>     <td> </td>    \n",
              "</tr>\n",
              "<tr>\n",
              "  <th>Covariance Type:</th>        <td>opg</td>       <th>                     </th>     <td> </td>    \n",
              "</tr>\n",
              "</table>\n",
              "<table class=\"simpletable\">\n",
              "<tr>\n",
              "      <td></td>         <th>coef</th>     <th>std err</th>      <th>z</th>      <th>P>|z|</th>  <th>[0.025</th>    <th>0.975]</th>  \n",
              "</tr>\n",
              "<tr>\n",
              "  <th>intercept</th> <td>    0.0030</td> <td>    0.002</td> <td>    1.539</td> <td> 0.124</td> <td>   -0.001</td> <td>    0.007</td>\n",
              "</tr>\n",
              "<tr>\n",
              "  <th>ar.L1</th>     <td>    0.9487</td> <td>    0.027</td> <td>   35.065</td> <td> 0.000</td> <td>    0.896</td> <td>    1.002</td>\n",
              "</tr>\n",
              "<tr>\n",
              "  <th>ma.L1</th>     <td>   -0.7410</td> <td>    0.027</td> <td>  -27.610</td> <td> 0.000</td> <td>   -0.794</td> <td>   -0.688</td>\n",
              "</tr>\n",
              "<tr>\n",
              "  <th>ma.L2</th>     <td>   -0.1649</td> <td>    0.012</td> <td>  -13.684</td> <td> 0.000</td> <td>   -0.189</td> <td>   -0.141</td>\n",
              "</tr>\n",
              "<tr>\n",
              "  <th>ma.L3</th>     <td>   -0.0578</td> <td>    0.010</td> <td>   -6.052</td> <td> 0.000</td> <td>   -0.077</td> <td>   -0.039</td>\n",
              "</tr>\n",
              "<tr>\n",
              "  <th>ma.L4</th>     <td>    0.0390</td> <td>    0.009</td> <td>    4.309</td> <td> 0.000</td> <td>    0.021</td> <td>    0.057</td>\n",
              "</tr>\n",
              "<tr>\n",
              "  <th>sigma2</th>    <td>    1.2171</td> <td>    0.010</td> <td>  117.878</td> <td> 0.000</td> <td>    1.197</td> <td>    1.237</td>\n",
              "</tr>\n",
              "</table>\n",
              "<table class=\"simpletable\">\n",
              "<tr>\n",
              "  <th>Ljung-Box (Q):</th>          <td>80.98</td> <th>  Jarque-Bera (JB):  </th> <td>18508.04</td>\n",
              "</tr>\n",
              "<tr>\n",
              "  <th>Prob(Q):</th>                <td>0.00</td>  <th>  Prob(JB):          </th>   <td>0.00</td>  \n",
              "</tr>\n",
              "<tr>\n",
              "  <th>Heteroskedasticity (H):</th> <td>0.72</td>  <th>  Skew:              </th>   <td>0.44</td>  \n",
              "</tr>\n",
              "<tr>\n",
              "  <th>Prob(H) (two-sided):</th>    <td>0.00</td>  <th>  Kurtosis:          </th>   <td>11.27</td> \n",
              "</tr>\n",
              "</table><br/><br/>Warnings:<br/>[1] Covariance matrix calculated using the outer product of gradients (complex-step)."
            ],
            "text/plain": [
              "<class 'statsmodels.iolib.summary.Summary'>\n",
              "\"\"\"\n",
              "                           Statespace Model Results                           \n",
              "==============================================================================\n",
              "Dep. Variable:                      y   No. Observations:                 6430\n",
              "Model:               SARIMAX(1, 0, 4)   Log Likelihood               -9756.073\n",
              "Date:                Fri, 25 Jun 2021   AIC                          19526.145\n",
              "Time:                        00:25:31   BIC                          19573.526\n",
              "Sample:                             0   HQIC                         19542.542\n",
              "                               - 6430                                         \n",
              "Covariance Type:                  opg                                         \n",
              "==============================================================================\n",
              "                 coef    std err          z      P>|z|      [0.025      0.975]\n",
              "------------------------------------------------------------------------------\n",
              "intercept      0.0030      0.002      1.539      0.124      -0.001       0.007\n",
              "ar.L1          0.9487      0.027     35.065      0.000       0.896       1.002\n",
              "ma.L1         -0.7410      0.027    -27.610      0.000      -0.794      -0.688\n",
              "ma.L2         -0.1649      0.012    -13.684      0.000      -0.189      -0.141\n",
              "ma.L3         -0.0578      0.010     -6.052      0.000      -0.077      -0.039\n",
              "ma.L4          0.0390      0.009      4.309      0.000       0.021       0.057\n",
              "sigma2         1.2171      0.010    117.878      0.000       1.197       1.237\n",
              "===================================================================================\n",
              "Ljung-Box (Q):                       80.98   Jarque-Bera (JB):             18508.04\n",
              "Prob(Q):                              0.00   Prob(JB):                         0.00\n",
              "Heteroskedasticity (H):               0.72   Skew:                             0.44\n",
              "Prob(H) (two-sided):                  0.00   Kurtosis:                        11.27\n",
              "===================================================================================\n",
              "\n",
              "Warnings:\n",
              "[1] Covariance matrix calculated using the outer product of gradients (complex-step).\n",
              "\"\"\""
            ]
          },
          "metadata": {
            "tags": []
          },
          "execution_count": 14
        }
      ]
    },
    {
      "cell_type": "code",
      "metadata": {
        "colab": {
          "base_uri": "https://localhost:8080/",
          "height": 643
        },
        "id": "bjScaxw2gt5E",
        "outputId": "c51e549a-b162-427b-b5f2-5106ef01bf98"
      },
      "source": [
        "# Estimación de un modelo GARCH(1,1)\n",
        "modelo_garch = arch.arch_model(residuos_arima, p = 1, q = 1).fit()\n",
        "\n",
        "modelo_garch.summary()"
      ],
      "execution_count": null,
      "outputs": [
        {
          "output_type": "stream",
          "text": [
            "Iteration:      1,   Func. Count:      6,   Neg. LLF: 8759.755926912861\n",
            "Iteration:      2,   Func. Count:     16,   Neg. LLF: 8759.422259797953\n",
            "Iteration:      3,   Func. Count:     25,   Neg. LLF: 8757.851153369395\n",
            "Iteration:      4,   Func. Count:     33,   Neg. LLF: 8747.08396713183\n",
            "Iteration:      5,   Func. Count:     40,   Neg. LLF: 8747.005918722632\n",
            "Iteration:      6,   Func. Count:     48,   Neg. LLF: 8746.871041413722\n",
            "Iteration:      7,   Func. Count:     54,   Neg. LLF: 8746.858164028441\n",
            "Iteration:      8,   Func. Count:     60,   Neg. LLF: 8746.85771344091\n",
            "Iteration:      9,   Func. Count:     66,   Neg. LLF: 8746.8577100033\n",
            "Optimization terminated successfully.    (Exit mode 0)\n",
            "            Current function value: 8746.857710003318\n",
            "            Iterations: 9\n",
            "            Function evaluations: 66\n",
            "            Gradient evaluations: 9\n"
          ],
          "name": "stdout"
        },
        {
          "output_type": "execute_result",
          "data": {
            "text/html": [
              "<table class=\"simpletable\">\n",
              "<caption>Constant Mean - GARCH Model Results</caption>\n",
              "<tr>\n",
              "  <th>Dep. Variable:</th>          <td>y</td>         <th>  R-squared:         </th>  <td>   0.000</td> \n",
              "</tr>\n",
              "<tr>\n",
              "  <th>Mean Model:</th>       <td>Constant Mean</td>   <th>  Adj. R-squared:    </th>  <td>   0.000</td> \n",
              "</tr>\n",
              "<tr>\n",
              "  <th>Vol Model:</th>            <td>GARCH</td>       <th>  Log-Likelihood:    </th> <td>  -8746.86</td>\n",
              "</tr>\n",
              "<tr>\n",
              "  <th>Distribution:</th>        <td>Normal</td>       <th>  AIC:               </th> <td>   17501.7</td>\n",
              "</tr>\n",
              "<tr>\n",
              "  <th>Method:</th>        <td>Maximum Likelihood</td> <th>  BIC:               </th> <td>   17528.8</td>\n",
              "</tr>\n",
              "<tr>\n",
              "  <th></th>                        <td></td>          <th>  No. Observations:  </th>    <td>6430</td>   \n",
              "</tr>\n",
              "<tr>\n",
              "  <th>Date:</th>           <td>Fri, Jun 25 2021</td>  <th>  Df Residuals:      </th>    <td>6429</td>   \n",
              "</tr>\n",
              "<tr>\n",
              "  <th>Time:</th>               <td>00:28:27</td>      <th>  Df Model:          </th>      <td>1</td>    \n",
              "</tr>\n",
              "</table>\n",
              "<table class=\"simpletable\">\n",
              "<caption>Mean Model</caption>\n",
              "<tr>\n",
              "   <td></td>     <th>coef</th>     <th>std err</th>      <th>t</th>       <th>P>|t|</th>      <th>95.0% Conf. Int.</th>   \n",
              "</tr>\n",
              "<tr>\n",
              "  <th>mu</th> <td>8.6402e-03</td> <td>1.015e-02</td> <td>    0.852</td> <td>    0.394</td> <td>[-1.124e-02,2.852e-02]</td>\n",
              "</tr>\n",
              "</table>\n",
              "<table class=\"simpletable\">\n",
              "<caption>Volatility Model</caption>\n",
              "<tr>\n",
              "      <td></td>        <th>coef</th>     <th>std err</th>      <th>t</th>       <th>P>|t|</th>     <th>95.0% Conf. Int.</th>   \n",
              "</tr>\n",
              "<tr>\n",
              "  <th>omega</th>    <td>    0.0288</td> <td>5.731e-03</td> <td>    5.025</td> <td>5.036e-07</td> <td>[1.757e-02,4.003e-02]</td>\n",
              "</tr>\n",
              "<tr>\n",
              "  <th>alpha[1]</th> <td>    0.1406</td> <td>1.466e-02</td> <td>    9.593</td> <td>8.567e-22</td>   <td>[  0.112,  0.169]</td>  \n",
              "</tr>\n",
              "<tr>\n",
              "  <th>beta[1]</th>  <td>    0.8394</td> <td>1.657e-02</td> <td>   50.667</td>   <td>0.000</td>     <td>[  0.807,  0.872]</td>  \n",
              "</tr>\n",
              "</table><br/><br/>Covariance estimator: robust"
            ],
            "text/plain": [
              "<class 'statsmodels.iolib.summary.Summary'>\n",
              "\"\"\"\n",
              "                     Constant Mean - GARCH Model Results                      \n",
              "==============================================================================\n",
              "Dep. Variable:                      y   R-squared:                       0.000\n",
              "Mean Model:             Constant Mean   Adj. R-squared:                  0.000\n",
              "Vol Model:                      GARCH   Log-Likelihood:               -8746.86\n",
              "Distribution:                  Normal   AIC:                           17501.7\n",
              "Method:            Maximum Likelihood   BIC:                           17528.8\n",
              "                                        No. Observations:                 6430\n",
              "Date:                Fri, Jun 25 2021   Df Residuals:                     6429\n",
              "Time:                        00:28:27   Df Model:                            1\n",
              "                                  Mean Model                                 \n",
              "=============================================================================\n",
              "                 coef    std err          t      P>|t|       95.0% Conf. Int.\n",
              "-----------------------------------------------------------------------------\n",
              "mu         8.6402e-03  1.015e-02      0.852      0.394 [-1.124e-02,2.852e-02]\n",
              "                              Volatility Model                              \n",
              "============================================================================\n",
              "                 coef    std err          t      P>|t|      95.0% Conf. Int.\n",
              "----------------------------------------------------------------------------\n",
              "omega          0.0288  5.731e-03      5.025  5.036e-07 [1.757e-02,4.003e-02]\n",
              "alpha[1]       0.1406  1.466e-02      9.593  8.567e-22     [  0.112,  0.169]\n",
              "beta[1]        0.8394  1.657e-02     50.667      0.000     [  0.807,  0.872]\n",
              "============================================================================\n",
              "\n",
              "Covariance estimator: robust\n",
              "\"\"\""
            ]
          },
          "metadata": {
            "tags": []
          },
          "execution_count": 19
        }
      ]
    },
    {
      "cell_type": "code",
      "metadata": {
        "id": "Ugh5fzb2dpTD"
      },
      "source": [
        "# Proyectar mu con el modelo ARIMA\n",
        "muhat = modelo_arima.predict(n_periods=1)[0]\n",
        "\n",
        "# Proyectar los residuos (et) con el modelo GARCH\n",
        "garch_forecast = modelo_garch.forecast(horizon=1)\n",
        "ethat = garch_forecast.mean['h.1'].iloc[-1]\n",
        "\n",
        "# yhat = muhat + ethat\n",
        "prediction = muhat + ethat"
      ],
      "execution_count": null,
      "outputs": []
    },
    {
      "cell_type": "code",
      "metadata": {
        "id": "1hijZlfsf2Z4"
      },
      "source": [
        ""
      ],
      "execution_count": null,
      "outputs": []
    },
    {
      "cell_type": "markdown",
      "metadata": {
        "id": "XxizLEBbZl7v"
      },
      "source": [
        "### **Para Mexico (MEXBOL)**"
      ]
    },
    {
      "cell_type": "code",
      "metadata": {
        "colab": {
          "base_uri": "https://localhost:8080/",
          "height": 506
        },
        "id": "eL3hlmGZZ1qV",
        "outputId": "5b1fbb60-cca6-4e0c-ada2-a10a2dc649e9"
      },
      "source": [
        "train, test = train_test_split(logret_series.iloc[:,1].dropna(), test_size = 0.2, shuffle=False)\n",
        "\n",
        "observado = [x for x in train]\n",
        "proyectado = list()\n",
        "\n",
        "# Identificacion del modelo\n",
        "modelo_arima = pmdarima.auto_arima(observado, test= 'adf', information_criterion = 'aic', alpha = 0.05)\n",
        "p, d, q = modelo_arima.order\n",
        "print('Componente AR = ', p, '| Componente I = ', d, ' | componente MA = ', q)\n",
        "residuos_arima = modelo_arima.arima_res_.resid # Residuos del modelo\n",
        "print('')\n",
        "modelo_arima.summary()\n",
        "\n",
        "# Proyectar con el modelo seleccionado\n",
        "#yhat = modelo.predict(n_periods = 1)\n",
        "#proyectado.append(yhat)\n",
        "#observado.append(test[t])"
      ],
      "execution_count": null,
      "outputs": [
        {
          "output_type": "stream",
          "text": [
            "Componente AR =  3 | Componente I =  0  | componente MA =  1\n",
            "\n"
          ],
          "name": "stdout"
        },
        {
          "output_type": "execute_result",
          "data": {
            "text/html": [
              "<table class=\"simpletable\">\n",
              "<caption>Statespace Model Results</caption>\n",
              "<tr>\n",
              "  <th>Dep. Variable:</th>           <td>y</td>        <th>  No. Observations:  </th>    <td>5670</td>   \n",
              "</tr>\n",
              "<tr>\n",
              "  <th>Model:</th>           <td>SARIMAX(3, 0, 1)</td> <th>  Log Likelihood     </th> <td>-10257.916</td>\n",
              "</tr>\n",
              "<tr>\n",
              "  <th>Date:</th>            <td>Fri, 25 Jun 2021</td> <th>  AIC                </th>  <td>20527.833</td>\n",
              "</tr>\n",
              "<tr>\n",
              "  <th>Time:</th>                <td>00:00:20</td>     <th>  BIC                </th>  <td>20567.690</td>\n",
              "</tr>\n",
              "<tr>\n",
              "  <th>Sample:</th>                  <td>0</td>        <th>  HQIC               </th>  <td>20541.714</td>\n",
              "</tr>\n",
              "<tr>\n",
              "  <th></th>                      <td> - 5670</td>     <th>                     </th>      <td> </td>    \n",
              "</tr>\n",
              "<tr>\n",
              "  <th>Covariance Type:</th>        <td>opg</td>       <th>                     </th>      <td> </td>    \n",
              "</tr>\n",
              "</table>\n",
              "<table class=\"simpletable\">\n",
              "<tr>\n",
              "      <td></td>         <th>coef</th>     <th>std err</th>      <th>z</th>      <th>P>|z|</th>  <th>[0.025</th>    <th>0.975]</th>  \n",
              "</tr>\n",
              "<tr>\n",
              "  <th>intercept</th> <td>    0.0904</td> <td>    0.038</td> <td>    2.407</td> <td> 0.016</td> <td>    0.017</td> <td>    0.164</td>\n",
              "</tr>\n",
              "<tr>\n",
              "  <th>ar.L1</th>     <td>   -0.7660</td> <td>    0.063</td> <td>  -12.248</td> <td> 0.000</td> <td>   -0.889</td> <td>   -0.643</td>\n",
              "</tr>\n",
              "<tr>\n",
              "  <th>ar.L2</th>     <td>    0.0486</td> <td>    0.011</td> <td>    4.396</td> <td> 0.000</td> <td>    0.027</td> <td>    0.070</td>\n",
              "</tr>\n",
              "<tr>\n",
              "  <th>ar.L3</th>     <td>   -0.0531</td> <td>    0.009</td> <td>   -5.804</td> <td> 0.000</td> <td>   -0.071</td> <td>   -0.035</td>\n",
              "</tr>\n",
              "<tr>\n",
              "  <th>ma.L1</th>     <td>    0.8646</td> <td>    0.062</td> <td>   13.875</td> <td> 0.000</td> <td>    0.742</td> <td>    0.987</td>\n",
              "</tr>\n",
              "<tr>\n",
              "  <th>sigma2</th>    <td>    2.1824</td> <td>    0.020</td> <td>  111.911</td> <td> 0.000</td> <td>    2.144</td> <td>    2.221</td>\n",
              "</tr>\n",
              "</table>\n",
              "<table class=\"simpletable\">\n",
              "<tr>\n",
              "  <th>Ljung-Box (Q):</th>          <td>44.81</td> <th>  Jarque-Bera (JB):  </th> <td>12048.03</td>\n",
              "</tr>\n",
              "<tr>\n",
              "  <th>Prob(Q):</th>                <td>0.28</td>  <th>  Prob(JB):          </th>   <td>0.00</td>  \n",
              "</tr>\n",
              "<tr>\n",
              "  <th>Heteroskedasticity (H):</th> <td>0.43</td>  <th>  Skew:              </th>   <td>0.11</td>  \n",
              "</tr>\n",
              "<tr>\n",
              "  <th>Prob(H) (two-sided):</th>    <td>0.00</td>  <th>  Kurtosis:          </th>   <td>10.14</td> \n",
              "</tr>\n",
              "</table><br/><br/>Warnings:<br/>[1] Covariance matrix calculated using the outer product of gradients (complex-step)."
            ],
            "text/plain": [
              "<class 'statsmodels.iolib.summary.Summary'>\n",
              "\"\"\"\n",
              "                           Statespace Model Results                           \n",
              "==============================================================================\n",
              "Dep. Variable:                      y   No. Observations:                 5670\n",
              "Model:               SARIMAX(3, 0, 1)   Log Likelihood              -10257.916\n",
              "Date:                Fri, 25 Jun 2021   AIC                          20527.833\n",
              "Time:                        00:00:20   BIC                          20567.690\n",
              "Sample:                             0   HQIC                         20541.714\n",
              "                               - 5670                                         \n",
              "Covariance Type:                  opg                                         \n",
              "==============================================================================\n",
              "                 coef    std err          z      P>|z|      [0.025      0.975]\n",
              "------------------------------------------------------------------------------\n",
              "intercept      0.0904      0.038      2.407      0.016       0.017       0.164\n",
              "ar.L1         -0.7660      0.063    -12.248      0.000      -0.889      -0.643\n",
              "ar.L2          0.0486      0.011      4.396      0.000       0.027       0.070\n",
              "ar.L3         -0.0531      0.009     -5.804      0.000      -0.071      -0.035\n",
              "ma.L1          0.8646      0.062     13.875      0.000       0.742       0.987\n",
              "sigma2         2.1824      0.020    111.911      0.000       2.144       2.221\n",
              "===================================================================================\n",
              "Ljung-Box (Q):                       44.81   Jarque-Bera (JB):             12048.03\n",
              "Prob(Q):                              0.28   Prob(JB):                         0.00\n",
              "Heteroskedasticity (H):               0.43   Skew:                             0.11\n",
              "Prob(H) (two-sided):                  0.00   Kurtosis:                        10.14\n",
              "===================================================================================\n",
              "\n",
              "Warnings:\n",
              "[1] Covariance matrix calculated using the outer product of gradients (complex-step).\n",
              "\"\"\""
            ]
          },
          "metadata": {
            "tags": []
          },
          "execution_count": 9
        }
      ]
    },
    {
      "cell_type": "markdown",
      "metadata": {
        "id": "Mj-rSUQkZmAX"
      },
      "source": [
        "### **Para Perú (SPBLPGPT)**"
      ]
    },
    {
      "cell_type": "code",
      "metadata": {
        "colab": {
          "base_uri": "https://localhost:8080/",
          "height": 568
        },
        "id": "bH6I2ngqy-MA",
        "outputId": "93f5ac91-1930-4282-b277-6085a21dd170"
      },
      "source": [
        "train, test = train_test_split(logret_series.iloc[:,2].dropna(), test_size = 0.2, shuffle=False)\n",
        "\n",
        "observado = [x for x in train]\n",
        "proyectado = list()\n",
        "\n",
        "# Identificacion del modelo\n",
        "modelo_arima = pmdarima.auto_arima(observado, test= 'adf', information_criterion = 'aic', alpha = 0.05)\n",
        "p, d, q = modelo_arima.order\n",
        "print('Componente AR = ', p, '| Componente I = ', d, ' | componente MA = ', q)\n",
        "residuos_arima = modelo_arima.arima_res_.resid # Residuos del modelo\n",
        "print('')\n",
        "modelo_arima.summary()"
      ],
      "execution_count": null,
      "outputs": [
        {
          "output_type": "stream",
          "text": [
            "Componente AR =  3 | Componente I =  0  | componente MA =  4\n",
            "\n"
          ],
          "name": "stdout"
        },
        {
          "output_type": "execute_result",
          "data": {
            "text/html": [
              "<table class=\"simpletable\">\n",
              "<caption>Statespace Model Results</caption>\n",
              "<tr>\n",
              "  <th>Dep. Variable:</th>           <td>y</td>        <th>  No. Observations:  </th>   <td>4030</td>   \n",
              "</tr>\n",
              "<tr>\n",
              "  <th>Model:</th>           <td>SARIMAX(3, 0, 4)</td> <th>  Log Likelihood     </th> <td>-6992.621</td>\n",
              "</tr>\n",
              "<tr>\n",
              "  <th>Date:</th>            <td>Fri, 25 Jun 2021</td> <th>  AIC                </th> <td>14003.242</td>\n",
              "</tr>\n",
              "<tr>\n",
              "  <th>Time:</th>                <td>00:02:26</td>     <th>  BIC                </th> <td>14059.956</td>\n",
              "</tr>\n",
              "<tr>\n",
              "  <th>Sample:</th>                  <td>0</td>        <th>  HQIC               </th> <td>14023.338</td>\n",
              "</tr>\n",
              "<tr>\n",
              "  <th></th>                      <td> - 4030</td>     <th>                     </th>     <td> </td>    \n",
              "</tr>\n",
              "<tr>\n",
              "  <th>Covariance Type:</th>        <td>opg</td>       <th>                     </th>     <td> </td>    \n",
              "</tr>\n",
              "</table>\n",
              "<table class=\"simpletable\">\n",
              "<tr>\n",
              "      <td></td>         <th>coef</th>     <th>std err</th>      <th>z</th>      <th>P>|z|</th>  <th>[0.025</th>    <th>0.975]</th>  \n",
              "</tr>\n",
              "<tr>\n",
              "  <th>intercept</th> <td>    0.0012</td> <td>    0.001</td> <td>    1.160</td> <td> 0.246</td> <td>   -0.001</td> <td>    0.003</td>\n",
              "</tr>\n",
              "<tr>\n",
              "  <th>ar.L1</th>     <td>    1.4972</td> <td>    0.056</td> <td>   26.630</td> <td> 0.000</td> <td>    1.387</td> <td>    1.607</td>\n",
              "</tr>\n",
              "<tr>\n",
              "  <th>ar.L2</th>     <td>   -1.2163</td> <td>    0.080</td> <td>  -15.182</td> <td> 0.000</td> <td>   -1.373</td> <td>   -1.059</td>\n",
              "</tr>\n",
              "<tr>\n",
              "  <th>ar.L3</th>     <td>    0.7007</td> <td>    0.055</td> <td>   12.784</td> <td> 0.000</td> <td>    0.593</td> <td>    0.808</td>\n",
              "</tr>\n",
              "<tr>\n",
              "  <th>ma.L1</th>     <td>   -1.3328</td> <td>    0.057</td> <td>  -23.403</td> <td> 0.000</td> <td>   -1.444</td> <td>   -1.221</td>\n",
              "</tr>\n",
              "<tr>\n",
              "  <th>ma.L2</th>     <td>    0.9470</td> <td>    0.077</td> <td>   12.320</td> <td> 0.000</td> <td>    0.796</td> <td>    1.098</td>\n",
              "</tr>\n",
              "<tr>\n",
              "  <th>ma.L3</th>     <td>   -0.4230</td> <td>    0.050</td> <td>   -8.387</td> <td> 0.000</td> <td>   -0.522</td> <td>   -0.324</td>\n",
              "</tr>\n",
              "<tr>\n",
              "  <th>ma.L4</th>     <td>   -0.1531</td> <td>    0.011</td> <td>  -14.029</td> <td> 0.000</td> <td>   -0.175</td> <td>   -0.132</td>\n",
              "</tr>\n",
              "<tr>\n",
              "  <th>sigma2</th>    <td>    1.8696</td> <td>    0.017</td> <td>  111.488</td> <td> 0.000</td> <td>    1.837</td> <td>    1.903</td>\n",
              "</tr>\n",
              "</table>\n",
              "<table class=\"simpletable\">\n",
              "<tr>\n",
              "  <th>Ljung-Box (Q):</th>          <td>77.35</td> <th>  Jarque-Bera (JB):  </th> <td>25972.48</td>\n",
              "</tr>\n",
              "<tr>\n",
              "  <th>Prob(Q):</th>                <td>0.00</td>  <th>  Prob(JB):          </th>   <td>0.00</td>  \n",
              "</tr>\n",
              "<tr>\n",
              "  <th>Heteroskedasticity (H):</th> <td>0.90</td>  <th>  Skew:              </th>   <td>0.00</td>  \n",
              "</tr>\n",
              "<tr>\n",
              "  <th>Prob(H) (two-sided):</th>    <td>0.06</td>  <th>  Kurtosis:          </th>   <td>15.44</td> \n",
              "</tr>\n",
              "</table><br/><br/>Warnings:<br/>[1] Covariance matrix calculated using the outer product of gradients (complex-step)."
            ],
            "text/plain": [
              "<class 'statsmodels.iolib.summary.Summary'>\n",
              "\"\"\"\n",
              "                           Statespace Model Results                           \n",
              "==============================================================================\n",
              "Dep. Variable:                      y   No. Observations:                 4030\n",
              "Model:               SARIMAX(3, 0, 4)   Log Likelihood               -6992.621\n",
              "Date:                Fri, 25 Jun 2021   AIC                          14003.242\n",
              "Time:                        00:02:26   BIC                          14059.956\n",
              "Sample:                             0   HQIC                         14023.338\n",
              "                               - 4030                                         \n",
              "Covariance Type:                  opg                                         \n",
              "==============================================================================\n",
              "                 coef    std err          z      P>|z|      [0.025      0.975]\n",
              "------------------------------------------------------------------------------\n",
              "intercept      0.0012      0.001      1.160      0.246      -0.001       0.003\n",
              "ar.L1          1.4972      0.056     26.630      0.000       1.387       1.607\n",
              "ar.L2         -1.2163      0.080    -15.182      0.000      -1.373      -1.059\n",
              "ar.L3          0.7007      0.055     12.784      0.000       0.593       0.808\n",
              "ma.L1         -1.3328      0.057    -23.403      0.000      -1.444      -1.221\n",
              "ma.L2          0.9470      0.077     12.320      0.000       0.796       1.098\n",
              "ma.L3         -0.4230      0.050     -8.387      0.000      -0.522      -0.324\n",
              "ma.L4         -0.1531      0.011    -14.029      0.000      -0.175      -0.132\n",
              "sigma2         1.8696      0.017    111.488      0.000       1.837       1.903\n",
              "===================================================================================\n",
              "Ljung-Box (Q):                       77.35   Jarque-Bera (JB):             25972.48\n",
              "Prob(Q):                              0.00   Prob(JB):                         0.00\n",
              "Heteroskedasticity (H):               0.90   Skew:                             0.00\n",
              "Prob(H) (two-sided):                  0.06   Kurtosis:                        15.44\n",
              "===================================================================================\n",
              "\n",
              "Warnings:\n",
              "[1] Covariance matrix calculated using the outer product of gradients (complex-step).\n",
              "\"\"\""
            ]
          },
          "metadata": {
            "tags": []
          },
          "execution_count": 10
        }
      ]
    },
    {
      "cell_type": "code",
      "metadata": {
        "colab": {
          "base_uri": "https://localhost:8080/"
        },
        "id": "SGs3SoMe6of8",
        "outputId": "c01bfb49-7f0a-48a0-f353-dd1069c2c324"
      },
      "source": [
        "proyeccion = proyeccion_arima + Proyeccion_e\n",
        "proyeccion\n",
        "test"
      ],
      "execution_count": null,
      "outputs": [
        {
          "output_type": "execute_result",
          "data": {
            "text/plain": [
              "-0.025941010288299537"
            ]
          },
          "metadata": {
            "tags": []
          },
          "execution_count": 23
        }
      ]
    },
    {
      "cell_type": "code",
      "metadata": {
        "id": "zx8PTG_n6kAt"
      },
      "source": [
        "\n",
        "# Proyectar con el modelo seleccionado\n",
        "yhat, conf_int = modelo.predict(n_periods = 20, return_conf_int=True)"
      ],
      "execution_count": null,
      "outputs": []
    },
    {
      "cell_type": "code",
      "metadata": {
        "id": "iF167DfZveEz"
      },
      "source": [
        "def modelo_arima(serie, test_size):\n",
        "\n",
        "  observado = [x for x in train]\n",
        "  proyectado = list()\n",
        "\n",
        "  for t in range(len(train)):\n",
        "\n",
        "    # Identificacion del modelo\n",
        "    modelo = pmdarima.auto_arima(observado, information_criterion = 'aic', alpha = 0.05)\n",
        "    p, d, q = modelo.order\n",
        "    # print('Componente AR = ', p, '| Componente I = ', d, ' | componente MA = ', q)\n",
        "    residuos = modelo.arima_res_.resid # Residuos del modelo\n",
        "    \n",
        "    # Proyectar con el modelo seleccionado\n",
        "    yhat = modelo.predict(n_periods = 1)\n",
        "    proyectado.append(yhat)\n",
        "    observado.append(test[t])\n",
        "    \n"
      ],
      "execution_count": null,
      "outputs": []
    },
    {
      "cell_type": "code",
      "metadata": {
        "id": "Zm9z29Ccwtbk"
      },
      "source": [
        "# Genereate predictions\n",
        "prediction = []\n",
        "for i in range(len(test)):\n",
        "  #\n",
        "  model = pm.ARIMA(order=order)\n",
        "  model.fit(train)\n",
        "  print('working on', i+1, 'of', test_len, '-- ' + str(int(100 * (i + 1) / test_len)) + '% complete')\n",
        "  prediction.append(model.predict()[0])\n",
        "  train.append(test[i])"
      ],
      "execution_count": null,
      "outputs": []
    },
    {
      "cell_type": "code",
      "metadata": {
        "id": "JEeTs_gHLkyz"
      },
      "source": [
        ""
      ],
      "execution_count": null,
      "outputs": []
    },
    {
      "cell_type": "code",
      "metadata": {
        "id": "aVKcXQ7tLk27"
      },
      "source": [
        ""
      ],
      "execution_count": null,
      "outputs": []
    },
    {
      "cell_type": "markdown",
      "metadata": {
        "id": "odawzSGQYqHh"
      },
      "source": [
        "Algoritmo para proyección continua (rolling forecast)\n",
        "\n",
        "Se usan las observaciones de entrenamiento para identificar y estimar un modelo ARIMA. Con este se proyecta la siguiente observación (la primera de las observaciones de prueba). \n",
        "Se compara la observación proyectada $\\hat{y}_{t}$ con la observación real $y_t$. Luego, se vuelve a identificar y estimar el modelo con la observación real $y_t$ para proyectar la observacion $y_{t+1}$"
      ]
    },
    {
      "cell_type": "markdown",
      "metadata": {
        "id": "Mr0YR8O9zYSs"
      },
      "source": [
        "## **Con statsmodels**\n",
        "\n",
        "**PRECAUCIÓN**: casi se me rompe la computadora cuando corrí este bloque."
      ]
    },
    {
      "cell_type": "code",
      "metadata": {
        "id": "aOJoKKgnNEvQ",
        "cellView": "code"
      },
      "source": [
        "#@title Default title text\n",
        "\n",
        "logret_spblpgpt = logret_series.iloc[:,1].dropna()\n",
        "logret_spblpgpt = logret_spblpgpt # ¡¡¡¡CAMBIAR!!!!\n",
        "\n",
        "serie = logret_spblpgpt.values\n",
        "train, test = train_test_split(serie, test_size=0.20, shuffle=False)\n",
        "print('Train')\n",
        "print('Inicio:', train.index[0].strftime('%d-%m-%Y'), '| Fin:', train.index[-1].strftime('%d-%m-%Y'), '| Observaciones', train.shape[0])\n",
        "print('')\n",
        "print('Test')\n",
        "print('Inicio:', test.index[0].strftime('%d-%m-%Y'), '| Fin:',test.index[-1].strftime('%d-%m-%Y'), '| Observaciones', test.shape[0])\n",
        "print('')\n",
        "print('')\n",
        "\n",
        "# Identificación del modelo\n",
        "\n",
        "#identificacion_arima"
      ],
      "execution_count": null,
      "outputs": []
    },
    {
      "cell_type": "code",
      "metadata": {
        "colab": {
          "base_uri": "https://localhost:8080/"
        },
        "id": "scJyYli_u-E_",
        "outputId": "bf92457a-b4cd-42a5-8e1e-1aa0ca7c6958"
      },
      "source": [
        "logret_spblpgpt = logret_series.iloc[:,1].dropna()\n",
        "logret_spblpgpt = logret_spblpgpt "
      ],
      "execution_count": null,
      "outputs": [
        {
          "output_type": "execute_result",
          "data": {
            "text/plain": [
              "Dates\n",
              "2002-02-07    0.483377\n",
              "2002-02-08    0.376809\n",
              "2002-02-11   -0.175562\n",
              "2002-02-12    0.015829\n",
              "2002-02-13    0.080689\n",
              "                ...   \n",
              "2021-05-25   -0.550173\n",
              "2021-05-26   -0.270503\n",
              "2021-05-27   -1.196186\n",
              "2021-05-28    5.239492\n",
              "2021-05-31    0.122451\n",
              "Name: spblpgpt, Length: 5038, dtype: float64"
            ]
          },
          "metadata": {
            "tags": []
          },
          "execution_count": 8
        }
      ]
    },
    {
      "cell_type": "code",
      "metadata": {
        "id": "8fX4ayGWdyyg"
      },
      "source": [
        "# Brownlee p. 244\n",
        "\n",
        "# Identificación del modelo\n",
        "\n",
        "#identificacion_arima\n",
        "\n",
        "# División datos entre train y test\n",
        "serie = logret_spblpgpt.values\n",
        "train, test = train_test_split(serie, test_size=0.33, shuffle=False)\n",
        "\n",
        "import warnings\n",
        "warnings.filterwarnings(\"ignore\")\n",
        "\n",
        "\n",
        "# Estimación continua del modelo\n",
        "def proyeccion_arima(serie, orden):\n",
        "    proyectado = list()\n",
        "\n",
        "  for t in range(len(test)):\n",
        "    # Estimación de coeficientes\n",
        "    modelo = ARIMA(observado, order = orden)\n",
        "    modelo_estimado = modelo.fit(disp=0)\n",
        "    yhat = modelo_estimado.forecast()[0]\n",
        "    proyectado.append(yhat)\n",
        "    observado.append(test[t])\n",
        "    #print('proyectado=%f , observado=%f ' % (yhat, test[t])) # PRECAUCION\n",
        "\n",
        "  # Evaluación de la proyección\n",
        "  rmse = math.sqrt(mean_squared_error(test, proyectado))\n",
        "  return rmse\n",
        "  print('')\n",
        "  #print('Valor RMSE: %.3f' % rmse) # PRECAUCION\n",
        "  print('')\n",
        "\n",
        "\n",
        "\n",
        "def identificacion_arima(serie, p_valor, d_valor, q_valor):\n",
        "  '''Función que identifica los componentes del modelo iterando entre diferentes\n",
        "     valores para p, d y q'''\n",
        "\n",
        "  serie = serie.astype('float32')\n",
        "  best_score, best_cfg = float('inf'), None #¿?\n",
        "\n",
        "  for p in p_valor:\n",
        "    for d in d_valor:\n",
        "      for q in q_valor:\n",
        "        orden = (p, d, q)\n",
        "        try:\n",
        "          rmse = proyeccion_arima(serie, orden)\n",
        "          if rmse < best_score:\n",
        "            best_score, best_cfg = rmse, order\n",
        "          print('ARIMA: ', order, ' RMSE: ', rmse)\n",
        "        except:\n",
        "          continue\n",
        "  print('Mejor modelo ARIMA: ', best_cfg, ' RMSE: ', best_score)"
      ],
      "execution_count": null,
      "outputs": []
    }
  ]
}