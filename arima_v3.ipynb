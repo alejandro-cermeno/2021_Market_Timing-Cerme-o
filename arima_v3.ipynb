{
  "nbformat": 4,
  "nbformat_minor": 0,
  "metadata": {
    "colab": {
      "name": "arima",
      "provenance": [],
      "collapsed_sections": [],
      "authorship_tag": "ABX9TyMDWG15/PvxXvLyHbBmuAIe",
      "include_colab_link": true
    },
    "kernelspec": {
      "name": "python3",
      "display_name": "Python 3"
    },
    "language_info": {
      "name": "python"
    }
  },
  "cells": [
    {
      "cell_type": "markdown",
      "metadata": {
        "id": "view-in-github",
        "colab_type": "text"
      },
      "source": [
        "<a href=\"https://colab.research.google.com/github/alejandro-cermeno/2021_Market_Timing-Cermeno/blob/main/arima_v3.ipynb\" target=\"_parent\"><img src=\"https://colab.research.google.com/assets/colab-badge.svg\" alt=\"Open In Colab\"/></a>"
      ]
    },
    {
      "cell_type": "markdown",
      "metadata": {
        "id": "mCP31AjbPLCf"
      },
      "source": [
        "\n",
        "### El modelo ARIMA de Box and Jenkins (1970)\n",
        "\n",
        "Alejandro Cermeño \n",
        "\n",
        "06/2021"
      ]
    },
    {
      "cell_type": "markdown",
      "metadata": {
        "id": "2b2R4-mnqfkO"
      },
      "source": [
        "## Procedimientos preliminares\n",
        "\n",
        "\n",
        "\n",
        "1.   Se importan las librerías necesarias\n",
        "2.   Se importan las series de precios\n",
        "3.   Se calcula el logaritmo de los retornos\n",
        "4.   Estadísticos descriptivos\n",
        "5.   Se configura el output en ${\\LaTeX}$"
      ]
    },
    {
      "cell_type": "code",
      "metadata": {
        "colab": {
          "base_uri": "https://localhost:8080/",
          "height": 946
        },
        "id": "MIel4eW3PUOq",
        "outputId": "305f92d4-d4b8-4146-d197-59adb54cae84"
      },
      "source": [
        "# Configuración premiliminar\n",
        "\n",
        "    # Librerias necesarias\n",
        "import os\n",
        "import pandas as pd\n",
        "import numpy as np\n",
        "from IPython.display import Image\n",
        "\n",
        "import matplotlib.pyplot as plt\n",
        "import matplotlib.gridspec as gridspec\n",
        "from matplotlib import pyplot\n",
        "import math\n",
        "import warnings\n",
        "warnings.filterwarnings('ignore')\n",
        "\n",
        "import statsmodels.api as sm\n",
        "from statsmodels.tsa.stattools import adfuller\n",
        "from statsmodels.graphics.tsaplots import plot_acf,plot_pacf\n",
        "from statsmodels.tsa.arima_model import ARIMA\n",
        "\n",
        "from sklearn.metrics import  mean_squared_error\n",
        "from sklearn.model_selection import train_test_split\n",
        "\n",
        "from google.colab import drive\n",
        "\n",
        "    # Directorio \n",
        "#drive.mount('/content/drive')\n",
        "#os.chdir('/content/drive/MyDrive/TESIS/2021_Market_Timing-Cermeño/Code')\n",
        "\n",
        "\n",
        "\n",
        "# Obtencion de datos\n",
        "ruta_git = 'https://git.io/Jnovh'\n",
        "series = pd.read_excel(ruta_git, sheet_name = 'source', index_col = 0)\n",
        "\n",
        "# Transformacion a retornos logarítmicos\n",
        "logret_series = (100 * (np.log(series) - np.log(series.shift(1))))\n",
        "\n",
        "\n",
        "\n",
        "# Tabla de estadisticos descriptivos\n",
        "descriptivos = pd.concat([logret_series.describe()\\\n",
        "                          .loc[['count','std', 'min', 'max']].T, \n",
        "                          series.skew().rename('skew'),series.kurt().\\\n",
        "                          rename('kurt')], axis=1).round(2)\n",
        "    # Se agregan las fechas de inicio\n",
        "fecha_inicio = logret_series.apply(lambda logret_series: logret_series.first_valid_index())\n",
        "fecha_inicio = pd.DataFrame(fecha_inicio, columns=['Fecha Inicio'])\n",
        "    # Se agregan las fechas de fin\n",
        "fecha_fin = logret_series.apply(lambda logret_series: logret_series.last_valid_index())\n",
        "fecha_fin = pd.DataFrame(fecha_fin, columns=['Fecha Fin'])\n",
        "\n",
        "descriptivos = pd.concat([fecha_inicio, fecha_fin, descriptivos], axis = 1)\n",
        "\n",
        "    # Configuración del output\n",
        "print('Precio de cierre de los indices LATAM')\n",
        "display(series.head())\n",
        "print('')\n",
        "print('')\n",
        "print('Retornos de los indices LATAM')\n",
        "display(logret_series.head())\n",
        "print('')\n",
        "print('')\n",
        "print('Estadísticos descriptivos de los retornos')\n",
        "display(descriptivos)\n",
        "print('')\n",
        "print('')\n",
        "print('LaTeX - Estadísticos descriptivos de los retornos')\n",
        "print(descriptivos.to_latex()) # Se configura el output a LaTeX"
      ],
      "execution_count": 1,
      "outputs": [
        {
          "output_type": "stream",
          "text": [
            "Precio de cierre de los indices LATAM\n"
          ],
          "name": "stdout"
        },
        {
          "output_type": "display_data",
          "data": {
            "text/html": [
              "<div>\n",
              "<style scoped>\n",
              "    .dataframe tbody tr th:only-of-type {\n",
              "        vertical-align: middle;\n",
              "    }\n",
              "\n",
              "    .dataframe tbody tr th {\n",
              "        vertical-align: top;\n",
              "    }\n",
              "\n",
              "    .dataframe thead th {\n",
              "        text-align: right;\n",
              "    }\n",
              "</style>\n",
              "<table border=\"1\" class=\"dataframe\">\n",
              "  <thead>\n",
              "    <tr style=\"text-align: right;\">\n",
              "      <th></th>\n",
              "      <th>ipsa</th>\n",
              "      <th>mexbol</th>\n",
              "      <th>spblpgpt</th>\n",
              "    </tr>\n",
              "    <tr>\n",
              "      <th>Dates</th>\n",
              "      <th></th>\n",
              "      <th></th>\n",
              "      <th></th>\n",
              "    </tr>\n",
              "  </thead>\n",
              "  <tbody>\n",
              "    <tr>\n",
              "      <th>1990-08-08</th>\n",
              "      <td>92.18</td>\n",
              "      <td>NaN</td>\n",
              "      <td>NaN</td>\n",
              "    </tr>\n",
              "    <tr>\n",
              "      <th>1990-08-09</th>\n",
              "      <td>92.10</td>\n",
              "      <td>NaN</td>\n",
              "      <td>NaN</td>\n",
              "    </tr>\n",
              "    <tr>\n",
              "      <th>1990-08-10</th>\n",
              "      <td>93.28</td>\n",
              "      <td>NaN</td>\n",
              "      <td>NaN</td>\n",
              "    </tr>\n",
              "    <tr>\n",
              "      <th>1990-08-13</th>\n",
              "      <td>93.51</td>\n",
              "      <td>NaN</td>\n",
              "      <td>NaN</td>\n",
              "    </tr>\n",
              "    <tr>\n",
              "      <th>1990-08-14</th>\n",
              "      <td>93.64</td>\n",
              "      <td>NaN</td>\n",
              "      <td>NaN</td>\n",
              "    </tr>\n",
              "  </tbody>\n",
              "</table>\n",
              "</div>"
            ],
            "text/plain": [
              "             ipsa  mexbol  spblpgpt\n",
              "Dates                              \n",
              "1990-08-08  92.18     NaN       NaN\n",
              "1990-08-09  92.10     NaN       NaN\n",
              "1990-08-10  93.28     NaN       NaN\n",
              "1990-08-13  93.51     NaN       NaN\n",
              "1990-08-14  93.64     NaN       NaN"
            ]
          },
          "metadata": {
            "tags": []
          }
        },
        {
          "output_type": "stream",
          "text": [
            "\n",
            "\n",
            "Retornos de los indices LATAM\n"
          ],
          "name": "stdout"
        },
        {
          "output_type": "display_data",
          "data": {
            "text/html": [
              "<div>\n",
              "<style scoped>\n",
              "    .dataframe tbody tr th:only-of-type {\n",
              "        vertical-align: middle;\n",
              "    }\n",
              "\n",
              "    .dataframe tbody tr th {\n",
              "        vertical-align: top;\n",
              "    }\n",
              "\n",
              "    .dataframe thead th {\n",
              "        text-align: right;\n",
              "    }\n",
              "</style>\n",
              "<table border=\"1\" class=\"dataframe\">\n",
              "  <thead>\n",
              "    <tr style=\"text-align: right;\">\n",
              "      <th></th>\n",
              "      <th>ipsa</th>\n",
              "      <th>mexbol</th>\n",
              "      <th>spblpgpt</th>\n",
              "    </tr>\n",
              "    <tr>\n",
              "      <th>Dates</th>\n",
              "      <th></th>\n",
              "      <th></th>\n",
              "      <th></th>\n",
              "    </tr>\n",
              "  </thead>\n",
              "  <tbody>\n",
              "    <tr>\n",
              "      <th>1990-08-08</th>\n",
              "      <td>NaN</td>\n",
              "      <td>NaN</td>\n",
              "      <td>NaN</td>\n",
              "    </tr>\n",
              "    <tr>\n",
              "      <th>1990-08-09</th>\n",
              "      <td>-0.086824</td>\n",
              "      <td>NaN</td>\n",
              "      <td>NaN</td>\n",
              "    </tr>\n",
              "    <tr>\n",
              "      <th>1990-08-10</th>\n",
              "      <td>1.273078</td>\n",
              "      <td>NaN</td>\n",
              "      <td>NaN</td>\n",
              "    </tr>\n",
              "    <tr>\n",
              "      <th>1990-08-13</th>\n",
              "      <td>0.246266</td>\n",
              "      <td>NaN</td>\n",
              "      <td>NaN</td>\n",
              "    </tr>\n",
              "    <tr>\n",
              "      <th>1990-08-14</th>\n",
              "      <td>0.138926</td>\n",
              "      <td>NaN</td>\n",
              "      <td>NaN</td>\n",
              "    </tr>\n",
              "  </tbody>\n",
              "</table>\n",
              "</div>"
            ],
            "text/plain": [
              "                ipsa  mexbol  spblpgpt\n",
              "Dates                                 \n",
              "1990-08-08       NaN     NaN       NaN\n",
              "1990-08-09 -0.086824     NaN       NaN\n",
              "1990-08-10  1.273078     NaN       NaN\n",
              "1990-08-13  0.246266     NaN       NaN\n",
              "1990-08-14  0.138926     NaN       NaN"
            ]
          },
          "metadata": {
            "tags": []
          }
        },
        {
          "output_type": "stream",
          "text": [
            "\n",
            "\n",
            "Estadísticos descriptivos de los retornos\n"
          ],
          "name": "stdout"
        },
        {
          "output_type": "display_data",
          "data": {
            "text/html": [
              "<div>\n",
              "<style scoped>\n",
              "    .dataframe tbody tr th:only-of-type {\n",
              "        vertical-align: middle;\n",
              "    }\n",
              "\n",
              "    .dataframe tbody tr th {\n",
              "        vertical-align: top;\n",
              "    }\n",
              "\n",
              "    .dataframe thead th {\n",
              "        text-align: right;\n",
              "    }\n",
              "</style>\n",
              "<table border=\"1\" class=\"dataframe\">\n",
              "  <thead>\n",
              "    <tr style=\"text-align: right;\">\n",
              "      <th></th>\n",
              "      <th>Fecha Inicio</th>\n",
              "      <th>Fecha Fin</th>\n",
              "      <th>count</th>\n",
              "      <th>std</th>\n",
              "      <th>min</th>\n",
              "      <th>max</th>\n",
              "      <th>skew</th>\n",
              "      <th>kurt</th>\n",
              "    </tr>\n",
              "  </thead>\n",
              "  <tbody>\n",
              "    <tr>\n",
              "      <th>ipsa</th>\n",
              "      <td>1990-08-09</td>\n",
              "      <td>2021-05-31</td>\n",
              "      <td>8038.0</td>\n",
              "      <td>1.14</td>\n",
              "      <td>-15.22</td>\n",
              "      <td>11.80</td>\n",
              "      <td>0.28</td>\n",
              "      <td>-1.41</td>\n",
              "    </tr>\n",
              "    <tr>\n",
              "      <th>mexbol</th>\n",
              "      <td>1994-03-31</td>\n",
              "      <td>2021-05-31</td>\n",
              "      <td>7088.0</td>\n",
              "      <td>1.40</td>\n",
              "      <td>-14.31</td>\n",
              "      <td>12.15</td>\n",
              "      <td>0.04</td>\n",
              "      <td>-1.65</td>\n",
              "    </tr>\n",
              "    <tr>\n",
              "      <th>spblpgpt</th>\n",
              "      <td>2002-02-07</td>\n",
              "      <td>2021-05-31</td>\n",
              "      <td>5038.0</td>\n",
              "      <td>1.34</td>\n",
              "      <td>-13.29</td>\n",
              "      <td>12.82</td>\n",
              "      <td>-0.58</td>\n",
              "      <td>-0.96</td>\n",
              "    </tr>\n",
              "  </tbody>\n",
              "</table>\n",
              "</div>"
            ],
            "text/plain": [
              "         Fecha Inicio  Fecha Fin   count   std    min    max  skew  kurt\n",
              "ipsa       1990-08-09 2021-05-31  8038.0  1.14 -15.22  11.80  0.28 -1.41\n",
              "mexbol     1994-03-31 2021-05-31  7088.0  1.40 -14.31  12.15  0.04 -1.65\n",
              "spblpgpt   2002-02-07 2021-05-31  5038.0  1.34 -13.29  12.82 -0.58 -0.96"
            ]
          },
          "metadata": {
            "tags": []
          }
        },
        {
          "output_type": "stream",
          "text": [
            "\n",
            "\n",
            "LaTeX - Estadísticos descriptivos de los retornos\n",
            "\\begin{tabular}{lllrrrrrr}\n",
            "\\toprule\n",
            "{} & Fecha Inicio &  Fecha Fin &   count &   std &    min &    max &  skew &  kurt \\\\\n",
            "\\midrule\n",
            "ipsa     &   1990-08-09 & 2021-05-31 &  8038.0 &  1.14 & -15.22 &  11.80 &  0.28 & -1.41 \\\\\n",
            "mexbol   &   1994-03-31 & 2021-05-31 &  7088.0 &  1.40 & -14.31 &  12.15 &  0.04 & -1.65 \\\\\n",
            "spblpgpt &   2002-02-07 & 2021-05-31 &  5038.0 &  1.34 & -13.29 &  12.82 & -0.58 & -0.96 \\\\\n",
            "\\bottomrule\n",
            "\\end{tabular}\n",
            "\n"
          ],
          "name": "stdout"
        }
      ]
    },
    {
      "cell_type": "markdown",
      "metadata": {
        "id": "GqZyU1Q6lm2s"
      },
      "source": [
        "## **Gráficos**\n"
      ]
    },
    {
      "cell_type": "code",
      "metadata": {
        "id": "A3w0tqvdf7aC"
      },
      "source": [
        "def graficos(df, titulos):\n",
        "\n",
        "  from math import ceil         # Aproxima los decimales al inmediato superior\n",
        "\n",
        "  # Numero de filas y columnas\n",
        "  nrows = ceil(df.shape[1] / 2) # Las filas serán la cantidad de series entre 2\n",
        "  ncols = 2                     # El gráfico solo tendrá dos columnas\n",
        "\n",
        "  fig, axes = plt.subplots(nrows, ncols, figsize=(16, 8))\n",
        "  plt.subplots_adjust(wspace=0.3, hspace=0.3)\n",
        "  for col, ax in zip(df.columns, axes.flatten()):\n",
        "    ax.plot(df.index, df[col], c = 'navy')\n",
        "    ax.set_xlabel(titulos[df.columns.get_loc(col)], fontsize=15)\n",
        "    ax.grid()\n",
        "\n",
        "  axes[1,nrows-1].set_axis_off() # Según sea el caso, elimina la subfigura extra"
      ],
      "execution_count": null,
      "outputs": []
    },
    {
      "cell_type": "markdown",
      "metadata": {
        "id": "iE3Ca8j6lqiq"
      },
      "source": [
        "Gráfico del precio de cierre de los indices LATAM"
      ]
    },
    {
      "cell_type": "code",
      "metadata": {
        "id": "lcP3uMZElujn",
        "colab": {
          "base_uri": "https://localhost:8080/",
          "height": 502
        },
        "outputId": "f1d3b216-d194-4f8f-d031-fae6f3150455"
      },
      "source": [
        "paises = ['(a) Chile', '(b) México', '(c) Perú']\n",
        "graficos(series, paises)\n",
        "\n",
        "plt.savefig('grafico_1_precios')"
      ],
      "execution_count": null,
      "outputs": [
        {
          "output_type": "display_data",
          "data": {
            "image/png": "[encoded data removed]",
            "text/plain": [
              "<Figure size 1152x576 with 4 Axes>"
            ]
          },
          "metadata": {
            "tags": [],
            "needs_background": "light"
          }
        }
      ]
    },
    {
      "cell_type": "markdown",
      "metadata": {
        "id": "0VdXszc8VYIU"
      },
      "source": [
        ""
      ]
    },
    {
      "cell_type": "code",
      "metadata": {
        "colab": {
          "base_uri": "https://localhost:8080/",
          "height": 502
        },
        "id": "r8Dt9hfbpUIJ",
        "outputId": "ef4c4fe7-69b5-4d88-9695-68318b25e86c"
      },
      "source": [
        "paises = ['(a) Chile', '(b) México', '(c) Perú']\n",
        "graficos(logret_series, paises)\n",
        "\n",
        "plt.savefig('grafico_2_retornos')"
      ],
      "execution_count": null,
      "outputs": [
        {
          "output_type": "display_data",
          "data": {
            "image/png": "[encoded data removed]",
            "text/plain": [
              "<Figure size 1152x576 with 4 Axes>"
            ]
          },
          "metadata": {
            "tags": [],
            "needs_background": "light"
          }
        }
      ]
    },
    {
      "cell_type": "markdown",
      "metadata": {
        "id": "gH3PUyLgVggR"
      },
      "source": [
        ""
      ]
    },
    {
      "cell_type": "markdown",
      "metadata": {
        "id": "RJOldjyKlrvP"
      },
      "source": [
        ""
      ]
    },
    {
      "cell_type": "markdown",
      "metadata": {
        "id": "wy0QHELcmAW-"
      },
      "source": [
        "## **Estacionariedad de las series**"
      ]
    },
    {
      "cell_type": "markdown",
      "metadata": {
        "id": "mumvJE_YoSem"
      },
      "source": [
        "Prueba de Dickey-Fuller Aumentada (ADF)"
      ]
    },
    {
      "cell_type": "code",
      "metadata": {
        "id": "Y68OMnFjmGI9"
      },
      "source": [
        "      # Prueba ADF \n",
        "def prueba_adfuller(df):\n",
        "\n",
        "  '''Esta función configura el formato del output de la función adfuller()'''\n",
        "\n",
        "  for i in range(len(series)):\n",
        "    print('Para', pais[i])\n",
        "    result=adfuller(df[i])\n",
        "    labels = ['Estadistico ADF','p-value','# rezagos','# Observaci\\\n",
        "    ones']\n",
        "    for value,label in zip(result,labels):\n",
        "      print(label+' : '+str(value) )\n",
        "    if result[1] <= 0.05: # Si p-value menor o igual a 0.5\n",
        "      print('')\n",
        "      print(\"Se rechaza la H_0, la serie es estacionaria\")\n",
        "      print('')\n",
        "      print('')\n",
        "    else:\n",
        "      print('')\n",
        "      print(\"Evidencia debil contra la H_0, la serie no es \\\n",
        "      estacionaria\")\n",
        "      print('')\n",
        "      print('')"
      ],
      "execution_count": null,
      "outputs": []
    },
    {
      "cell_type": "code",
      "metadata": {
        "colab": {
          "base_uri": "https://localhost:8080/",
          "height": 613
        },
        "id": "hvqWNJ19zYms",
        "outputId": "dc0ebaca-d75a-4370-e3f5-843873bbf1a9"
      },
      "source": [
        "# Para precios\n",
        "\n",
        "pais = ['MEXICO', 'PERU', 'CHILE']\n",
        "\n",
        "\n",
        "prueba_adfuller(series)"
      ],
      "execution_count": null,
      "outputs": [
        {
          "output_type": "stream",
          "text": [
            "Para MEXICO\n"
          ],
          "name": "stdout"
        },
        {
          "output_type": "error",
          "ename": "KeyError",
          "evalue": "ignored",
          "traceback": [
            "\u001b[0;31m---------------------------------------------------------------------------\u001b[0m",
            "\u001b[0;31mKeyError\u001b[0m                                  Traceback (most recent call last)",
            "\u001b[0;32m/usr/local/lib/python3.7/dist-packages/pandas/core/indexes/base.py\u001b[0m in \u001b[0;36mget_loc\u001b[0;34m(self, key, method, tolerance)\u001b[0m\n\u001b[1;32m   2897\u001b[0m             \u001b[0;32mtry\u001b[0m\u001b[0;34m:\u001b[0m\u001b[0;34m\u001b[0m\u001b[0;34m\u001b[0m\u001b[0m\n\u001b[0;32m-> 2898\u001b[0;31m                 \u001b[0;32mreturn\u001b[0m \u001b[0mself\u001b[0m\u001b[0;34m.\u001b[0m\u001b[0m_engine\u001b[0m\u001b[0;34m.\u001b[0m\u001b[0mget_loc\u001b[0m\u001b[0;34m(\u001b[0m\u001b[0mcasted_key\u001b[0m\u001b[0;34m)\u001b[0m\u001b[0;34m\u001b[0m\u001b[0;34m\u001b[0m\u001b[0m\n\u001b[0m\u001b[1;32m   2899\u001b[0m             \u001b[0;32mexcept\u001b[0m \u001b[0mKeyError\u001b[0m \u001b[0;32mas\u001b[0m \u001b[0merr\u001b[0m\u001b[0;34m:\u001b[0m\u001b[0;34m\u001b[0m\u001b[0;34m\u001b[0m\u001b[0m\n",
            "\u001b[0;32mpandas/_libs/index.pyx\u001b[0m in \u001b[0;36mpandas._libs.index.IndexEngine.get_loc\u001b[0;34m()\u001b[0m\n",
            "\u001b[0;32mpandas/_libs/index.pyx\u001b[0m in \u001b[0;36mpandas._libs.index.IndexEngine.get_loc\u001b[0;34m()\u001b[0m\n",
            "\u001b[0;32mpandas/_libs/hashtable_class_helper.pxi\u001b[0m in \u001b[0;36mpandas._libs.hashtable.PyObjectHashTable.get_item\u001b[0;34m()\u001b[0m\n",
            "\u001b[0;32mpandas/_libs/hashtable_class_helper.pxi\u001b[0m in \u001b[0;36mpandas._libs.hashtable.PyObjectHashTable.get_item\u001b[0;34m()\u001b[0m\n",
            "\u001b[0;31mKeyError\u001b[0m: 0",
            "\nThe above exception was the direct cause of the following exception:\n",
            "\u001b[0;31mKeyError\u001b[0m                                  Traceback (most recent call last)",
            "\u001b[0;32m<ipython-input-110-a8eb1bda74cb>\u001b[0m in \u001b[0;36m<module>\u001b[0;34m()\u001b[0m\n\u001b[1;32m      4\u001b[0m \u001b[0;34m\u001b[0m\u001b[0m\n\u001b[1;32m      5\u001b[0m \u001b[0;34m\u001b[0m\u001b[0m\n\u001b[0;32m----> 6\u001b[0;31m \u001b[0mprueba_adfuller\u001b[0m\u001b[0;34m(\u001b[0m\u001b[0mseries\u001b[0m\u001b[0;34m)\u001b[0m\u001b[0;34m\u001b[0m\u001b[0;34m\u001b[0m\u001b[0m\n\u001b[0m",
            "\u001b[0;32m<ipython-input-109-939f638426a8>\u001b[0m in \u001b[0;36mprueba_adfuller\u001b[0;34m(df)\u001b[0m\n\u001b[1;32m      8\u001b[0m   \u001b[0;32mfor\u001b[0m \u001b[0mi\u001b[0m \u001b[0;32min\u001b[0m \u001b[0mrange\u001b[0m\u001b[0;34m(\u001b[0m\u001b[0mlen\u001b[0m\u001b[0;34m(\u001b[0m\u001b[0mseries\u001b[0m\u001b[0;34m)\u001b[0m\u001b[0;34m)\u001b[0m\u001b[0;34m:\u001b[0m\u001b[0;34m\u001b[0m\u001b[0;34m\u001b[0m\u001b[0m\n\u001b[1;32m      9\u001b[0m     \u001b[0mprint\u001b[0m\u001b[0;34m(\u001b[0m\u001b[0;34m'Para'\u001b[0m\u001b[0;34m,\u001b[0m \u001b[0mpais\u001b[0m\u001b[0;34m[\u001b[0m\u001b[0mi\u001b[0m\u001b[0;34m]\u001b[0m\u001b[0;34m)\u001b[0m\u001b[0;34m\u001b[0m\u001b[0;34m\u001b[0m\u001b[0m\n\u001b[0;32m---> 10\u001b[0;31m     \u001b[0mresult\u001b[0m\u001b[0;34m=\u001b[0m\u001b[0madfuller\u001b[0m\u001b[0;34m(\u001b[0m\u001b[0mdf\u001b[0m\u001b[0;34m[\u001b[0m\u001b[0mi\u001b[0m\u001b[0;34m]\u001b[0m\u001b[0;34m)\u001b[0m\u001b[0;34m\u001b[0m\u001b[0;34m\u001b[0m\u001b[0m\n\u001b[0m\u001b[1;32m     11\u001b[0m     labels = ['Estadistico ADF','p-value','# rezagos','# Observaci\\\n\u001b[1;32m     12\u001b[0m     ones']\n",
            "\u001b[0;32m/usr/local/lib/python3.7/dist-packages/pandas/core/frame.py\u001b[0m in \u001b[0;36m__getitem__\u001b[0;34m(self, key)\u001b[0m\n\u001b[1;32m   2904\u001b[0m             \u001b[0;32mif\u001b[0m \u001b[0mself\u001b[0m\u001b[0;34m.\u001b[0m\u001b[0mcolumns\u001b[0m\u001b[0;34m.\u001b[0m\u001b[0mnlevels\u001b[0m \u001b[0;34m>\u001b[0m \u001b[0;36m1\u001b[0m\u001b[0;34m:\u001b[0m\u001b[0;34m\u001b[0m\u001b[0;34m\u001b[0m\u001b[0m\n\u001b[1;32m   2905\u001b[0m                 \u001b[0;32mreturn\u001b[0m \u001b[0mself\u001b[0m\u001b[0;34m.\u001b[0m\u001b[0m_getitem_multilevel\u001b[0m\u001b[0;34m(\u001b[0m\u001b[0mkey\u001b[0m\u001b[0;34m)\u001b[0m\u001b[0;34m\u001b[0m\u001b[0;34m\u001b[0m\u001b[0m\n\u001b[0;32m-> 2906\u001b[0;31m             \u001b[0mindexer\u001b[0m \u001b[0;34m=\u001b[0m \u001b[0mself\u001b[0m\u001b[0;34m.\u001b[0m\u001b[0mcolumns\u001b[0m\u001b[0;34m.\u001b[0m\u001b[0mget_loc\u001b[0m\u001b[0;34m(\u001b[0m\u001b[0mkey\u001b[0m\u001b[0;34m)\u001b[0m\u001b[0;34m\u001b[0m\u001b[0;34m\u001b[0m\u001b[0m\n\u001b[0m\u001b[1;32m   2907\u001b[0m             \u001b[0;32mif\u001b[0m \u001b[0mis_integer\u001b[0m\u001b[0;34m(\u001b[0m\u001b[0mindexer\u001b[0m\u001b[0;34m)\u001b[0m\u001b[0;34m:\u001b[0m\u001b[0;34m\u001b[0m\u001b[0;34m\u001b[0m\u001b[0m\n\u001b[1;32m   2908\u001b[0m                 \u001b[0mindexer\u001b[0m \u001b[0;34m=\u001b[0m \u001b[0;34m[\u001b[0m\u001b[0mindexer\u001b[0m\u001b[0;34m]\u001b[0m\u001b[0;34m\u001b[0m\u001b[0;34m\u001b[0m\u001b[0m\n",
            "\u001b[0;32m/usr/local/lib/python3.7/dist-packages/pandas/core/indexes/base.py\u001b[0m in \u001b[0;36mget_loc\u001b[0;34m(self, key, method, tolerance)\u001b[0m\n\u001b[1;32m   2898\u001b[0m                 \u001b[0;32mreturn\u001b[0m \u001b[0mself\u001b[0m\u001b[0;34m.\u001b[0m\u001b[0m_engine\u001b[0m\u001b[0;34m.\u001b[0m\u001b[0mget_loc\u001b[0m\u001b[0;34m(\u001b[0m\u001b[0mcasted_key\u001b[0m\u001b[0;34m)\u001b[0m\u001b[0;34m\u001b[0m\u001b[0;34m\u001b[0m\u001b[0m\n\u001b[1;32m   2899\u001b[0m             \u001b[0;32mexcept\u001b[0m \u001b[0mKeyError\u001b[0m \u001b[0;32mas\u001b[0m \u001b[0merr\u001b[0m\u001b[0;34m:\u001b[0m\u001b[0;34m\u001b[0m\u001b[0;34m\u001b[0m\u001b[0m\n\u001b[0;32m-> 2900\u001b[0;31m                 \u001b[0;32mraise\u001b[0m \u001b[0mKeyError\u001b[0m\u001b[0;34m(\u001b[0m\u001b[0mkey\u001b[0m\u001b[0;34m)\u001b[0m \u001b[0;32mfrom\u001b[0m \u001b[0merr\u001b[0m\u001b[0;34m\u001b[0m\u001b[0;34m\u001b[0m\u001b[0m\n\u001b[0m\u001b[1;32m   2901\u001b[0m \u001b[0;34m\u001b[0m\u001b[0m\n\u001b[1;32m   2902\u001b[0m         \u001b[0;32mif\u001b[0m \u001b[0mtolerance\u001b[0m \u001b[0;32mis\u001b[0m \u001b[0;32mnot\u001b[0m \u001b[0;32mNone\u001b[0m\u001b[0;34m:\u001b[0m\u001b[0;34m\u001b[0m\u001b[0;34m\u001b[0m\u001b[0m\n",
            "\u001b[0;31mKeyError\u001b[0m: 0"
          ]
        }
      ]
    },
    {
      "cell_type": "code",
      "metadata": {
        "colab": {
          "base_uri": "https://localhost:8080/",
          "height": 613
        },
        "id": "i4l4Vmt1zZaC",
        "outputId": "9f293f83-5d89-4b44-f59d-caa105b613ce"
      },
      "source": [
        "# Para retornos\n",
        "\n",
        "prueba_adfuller(logret_series)"
      ],
      "execution_count": null,
      "outputs": [
        {
          "output_type": "stream",
          "text": [
            "Para MEXICO\n"
          ],
          "name": "stdout"
        },
        {
          "output_type": "error",
          "ename": "KeyError",
          "evalue": "ignored",
          "traceback": [
            "\u001b[0;31m---------------------------------------------------------------------------\u001b[0m",
            "\u001b[0;31mKeyError\u001b[0m                                  Traceback (most recent call last)",
            "\u001b[0;32m/usr/local/lib/python3.7/dist-packages/pandas/core/indexes/base.py\u001b[0m in \u001b[0;36mget_loc\u001b[0;34m(self, key, method, tolerance)\u001b[0m\n\u001b[1;32m   2897\u001b[0m             \u001b[0;32mtry\u001b[0m\u001b[0;34m:\u001b[0m\u001b[0;34m\u001b[0m\u001b[0;34m\u001b[0m\u001b[0m\n\u001b[0;32m-> 2898\u001b[0;31m                 \u001b[0;32mreturn\u001b[0m \u001b[0mself\u001b[0m\u001b[0;34m.\u001b[0m\u001b[0m_engine\u001b[0m\u001b[0;34m.\u001b[0m\u001b[0mget_loc\u001b[0m\u001b[0;34m(\u001b[0m\u001b[0mcasted_key\u001b[0m\u001b[0;34m)\u001b[0m\u001b[0;34m\u001b[0m\u001b[0;34m\u001b[0m\u001b[0m\n\u001b[0m\u001b[1;32m   2899\u001b[0m             \u001b[0;32mexcept\u001b[0m \u001b[0mKeyError\u001b[0m \u001b[0;32mas\u001b[0m \u001b[0merr\u001b[0m\u001b[0;34m:\u001b[0m\u001b[0;34m\u001b[0m\u001b[0;34m\u001b[0m\u001b[0m\n",
            "\u001b[0;32mpandas/_libs/index.pyx\u001b[0m in \u001b[0;36mpandas._libs.index.IndexEngine.get_loc\u001b[0;34m()\u001b[0m\n",
            "\u001b[0;32mpandas/_libs/index.pyx\u001b[0m in \u001b[0;36mpandas._libs.index.IndexEngine.get_loc\u001b[0;34m()\u001b[0m\n",
            "\u001b[0;32mpandas/_libs/hashtable_class_helper.pxi\u001b[0m in \u001b[0;36mpandas._libs.hashtable.PyObjectHashTable.get_item\u001b[0;34m()\u001b[0m\n",
            "\u001b[0;32mpandas/_libs/hashtable_class_helper.pxi\u001b[0m in \u001b[0;36mpandas._libs.hashtable.PyObjectHashTable.get_item\u001b[0;34m()\u001b[0m\n",
            "\u001b[0;31mKeyError\u001b[0m: 0",
            "\nThe above exception was the direct cause of the following exception:\n",
            "\u001b[0;31mKeyError\u001b[0m                                  Traceback (most recent call last)",
            "\u001b[0;32m<ipython-input-111-ee78be5bb90b>\u001b[0m in \u001b[0;36m<module>\u001b[0;34m()\u001b[0m\n\u001b[1;32m      1\u001b[0m \u001b[0;31m# Para retornos\u001b[0m\u001b[0;34m\u001b[0m\u001b[0;34m\u001b[0m\u001b[0;34m\u001b[0m\u001b[0m\n\u001b[1;32m      2\u001b[0m \u001b[0;34m\u001b[0m\u001b[0m\n\u001b[0;32m----> 3\u001b[0;31m \u001b[0mprueba_adfuller\u001b[0m\u001b[0;34m(\u001b[0m\u001b[0mlogret_series\u001b[0m\u001b[0;34m)\u001b[0m\u001b[0;34m\u001b[0m\u001b[0;34m\u001b[0m\u001b[0m\n\u001b[0m",
            "\u001b[0;32m<ipython-input-109-939f638426a8>\u001b[0m in \u001b[0;36mprueba_adfuller\u001b[0;34m(df)\u001b[0m\n\u001b[1;32m      8\u001b[0m   \u001b[0;32mfor\u001b[0m \u001b[0mi\u001b[0m \u001b[0;32min\u001b[0m \u001b[0mrange\u001b[0m\u001b[0;34m(\u001b[0m\u001b[0mlen\u001b[0m\u001b[0;34m(\u001b[0m\u001b[0mseries\u001b[0m\u001b[0;34m)\u001b[0m\u001b[0;34m)\u001b[0m\u001b[0;34m:\u001b[0m\u001b[0;34m\u001b[0m\u001b[0;34m\u001b[0m\u001b[0m\n\u001b[1;32m      9\u001b[0m     \u001b[0mprint\u001b[0m\u001b[0;34m(\u001b[0m\u001b[0;34m'Para'\u001b[0m\u001b[0;34m,\u001b[0m \u001b[0mpais\u001b[0m\u001b[0;34m[\u001b[0m\u001b[0mi\u001b[0m\u001b[0;34m]\u001b[0m\u001b[0;34m)\u001b[0m\u001b[0;34m\u001b[0m\u001b[0;34m\u001b[0m\u001b[0m\n\u001b[0;32m---> 10\u001b[0;31m     \u001b[0mresult\u001b[0m\u001b[0;34m=\u001b[0m\u001b[0madfuller\u001b[0m\u001b[0;34m(\u001b[0m\u001b[0mdf\u001b[0m\u001b[0;34m[\u001b[0m\u001b[0mi\u001b[0m\u001b[0;34m]\u001b[0m\u001b[0;34m)\u001b[0m\u001b[0;34m\u001b[0m\u001b[0;34m\u001b[0m\u001b[0m\n\u001b[0m\u001b[1;32m     11\u001b[0m     labels = ['Estadistico ADF','p-value','# rezagos','# Observaci\\\n\u001b[1;32m     12\u001b[0m     ones']\n",
            "\u001b[0;32m/usr/local/lib/python3.7/dist-packages/pandas/core/frame.py\u001b[0m in \u001b[0;36m__getitem__\u001b[0;34m(self, key)\u001b[0m\n\u001b[1;32m   2904\u001b[0m             \u001b[0;32mif\u001b[0m \u001b[0mself\u001b[0m\u001b[0;34m.\u001b[0m\u001b[0mcolumns\u001b[0m\u001b[0;34m.\u001b[0m\u001b[0mnlevels\u001b[0m \u001b[0;34m>\u001b[0m \u001b[0;36m1\u001b[0m\u001b[0;34m:\u001b[0m\u001b[0;34m\u001b[0m\u001b[0;34m\u001b[0m\u001b[0m\n\u001b[1;32m   2905\u001b[0m                 \u001b[0;32mreturn\u001b[0m \u001b[0mself\u001b[0m\u001b[0;34m.\u001b[0m\u001b[0m_getitem_multilevel\u001b[0m\u001b[0;34m(\u001b[0m\u001b[0mkey\u001b[0m\u001b[0;34m)\u001b[0m\u001b[0;34m\u001b[0m\u001b[0;34m\u001b[0m\u001b[0m\n\u001b[0;32m-> 2906\u001b[0;31m             \u001b[0mindexer\u001b[0m \u001b[0;34m=\u001b[0m \u001b[0mself\u001b[0m\u001b[0;34m.\u001b[0m\u001b[0mcolumns\u001b[0m\u001b[0;34m.\u001b[0m\u001b[0mget_loc\u001b[0m\u001b[0;34m(\u001b[0m\u001b[0mkey\u001b[0m\u001b[0;34m)\u001b[0m\u001b[0;34m\u001b[0m\u001b[0;34m\u001b[0m\u001b[0m\n\u001b[0m\u001b[1;32m   2907\u001b[0m             \u001b[0;32mif\u001b[0m \u001b[0mis_integer\u001b[0m\u001b[0;34m(\u001b[0m\u001b[0mindexer\u001b[0m\u001b[0;34m)\u001b[0m\u001b[0;34m:\u001b[0m\u001b[0;34m\u001b[0m\u001b[0;34m\u001b[0m\u001b[0m\n\u001b[1;32m   2908\u001b[0m                 \u001b[0mindexer\u001b[0m \u001b[0;34m=\u001b[0m \u001b[0;34m[\u001b[0m\u001b[0mindexer\u001b[0m\u001b[0;34m]\u001b[0m\u001b[0;34m\u001b[0m\u001b[0;34m\u001b[0m\u001b[0m\n",
            "\u001b[0;32m/usr/local/lib/python3.7/dist-packages/pandas/core/indexes/base.py\u001b[0m in \u001b[0;36mget_loc\u001b[0;34m(self, key, method, tolerance)\u001b[0m\n\u001b[1;32m   2898\u001b[0m                 \u001b[0;32mreturn\u001b[0m \u001b[0mself\u001b[0m\u001b[0;34m.\u001b[0m\u001b[0m_engine\u001b[0m\u001b[0;34m.\u001b[0m\u001b[0mget_loc\u001b[0m\u001b[0;34m(\u001b[0m\u001b[0mcasted_key\u001b[0m\u001b[0;34m)\u001b[0m\u001b[0;34m\u001b[0m\u001b[0;34m\u001b[0m\u001b[0m\n\u001b[1;32m   2899\u001b[0m             \u001b[0;32mexcept\u001b[0m \u001b[0mKeyError\u001b[0m \u001b[0;32mas\u001b[0m \u001b[0merr\u001b[0m\u001b[0;34m:\u001b[0m\u001b[0;34m\u001b[0m\u001b[0;34m\u001b[0m\u001b[0m\n\u001b[0;32m-> 2900\u001b[0;31m                 \u001b[0;32mraise\u001b[0m \u001b[0mKeyError\u001b[0m\u001b[0;34m(\u001b[0m\u001b[0mkey\u001b[0m\u001b[0;34m)\u001b[0m \u001b[0;32mfrom\u001b[0m \u001b[0merr\u001b[0m\u001b[0;34m\u001b[0m\u001b[0;34m\u001b[0m\u001b[0m\n\u001b[0m\u001b[1;32m   2901\u001b[0m \u001b[0;34m\u001b[0m\u001b[0m\n\u001b[1;32m   2902\u001b[0m         \u001b[0;32mif\u001b[0m \u001b[0mtolerance\u001b[0m \u001b[0;32mis\u001b[0m \u001b[0;32mnot\u001b[0m \u001b[0;32mNone\u001b[0m\u001b[0;34m:\u001b[0m\u001b[0;34m\u001b[0m\u001b[0;34m\u001b[0m\u001b[0m\n",
            "\u001b[0;31mKeyError\u001b[0m: 0"
          ]
        }
      ]
    },
    {
      "cell_type": "markdown",
      "metadata": {
        "id": "5Ivx343yoT9Y"
      },
      "source": [
        "Para otras prebas como Phillips-Perron ADF-GLS)\n",
        "\n",
        "```\n",
        "# This is formatted as code\n",
        "```\n",
        "\n"
      ]
    },
    {
      "cell_type": "code",
      "metadata": {
        "id": "gHm3Q-LEmGLC"
      },
      "source": [
        "arch.unitroot.DFGLS(method='AIC')"
      ],
      "execution_count": null,
      "outputs": []
    },
    {
      "cell_type": "code",
      "metadata": {
        "id": "8LCJHPJ1C5F7"
      },
      "source": [
        "# Autocorrelograma\n",
        "\n",
        "logret_spblpgpt = logret_series.iloc[:,1].dropna()\n",
        "logret_spblpgpt = logret_spblpgpt[0:20] # ¡¡¡¡CAMBIAR!!!!\n",
        "\n",
        "# Gráfico de Autocorrelación y Autocorrelación Parcial\n",
        "\n",
        "for i in range(len(logret_series)):\n",
        "  fig = plt.figure(figsize=(10,6))\n",
        "  ax1 = fig.add_subplot(211)\n",
        "  # Grafico ACF\n",
        "  fig = sm.graphics.tsa.plot_acf((logret_series[i]),lags=25,ax=ax1, \n",
        "                                 title ='Autocorrelation '+pais[i])\n",
        "  ax2 = fig.add_subplot(212)\n",
        "  # Grafico PACF\n",
        "  fig = sm.graphics.tsa.plot_pacf(logret_series[i].dropna(),lags=25,ax=ax2, \n",
        "                                  title ='Autocorrelacion Parcial')"
      ],
      "execution_count": null,
      "outputs": []
    },
    {
      "cell_type": "code",
      "metadata": {
        "id": "CrVU3G_J4mWn"
      },
      "source": [
        "# Prueba Phillips y Perron"
      ],
      "execution_count": null,
      "outputs": []
    },
    {
      "cell_type": "code",
      "metadata": {
        "id": "kTe78KLh_RhU"
      },
      "source": [
        ""
      ],
      "execution_count": null,
      "outputs": []
    },
    {
      "cell_type": "markdown",
      "metadata": {
        "id": "n-eUwCiN7f6c"
      },
      "source": [
        "# **Modelo ARIMA**\n",
        "\n",
        "**AR** - AutoRegressive\\\n",
        "**I** - Integrated\\\n",
        "**MA** - Moving *Average*\n",
        "\n",
        "\n",
        "\n",
        "1.   Identificación del modelo\n",
        "2.   Estimación de parámetros\n",
        "\n",
        "$$\\hat{y}_{t}=\\mu+\\sum_{i=1}^{p}a_{i}y_{t-i}+\\sum_{i=1}^{q}b_{i}\\epsilon_{t-i}+\\epsilon_{t}$$\n",
        "\n",
        "\n",
        "$$\\epsilon_{t}=\\sqrt{\\sigma_{t}z_{t}},\\,\\sigma^{2}=\\omega+\\sum_{i=1}^{p}\\alpha_{i}\\epsilon_{t-i}^{2}+\\sum_{i=1}^{q}\\beta_{i}\\sigma_{t-i}^{2}$$\n",
        "\n"
      ]
    },
    {
      "cell_type": "markdown",
      "metadata": {
        "id": "_mCHoZxjFYp5"
      },
      "source": [
        "Algoritmo para proyección continua (rolling forecast)\n",
        "\n",
        "Se usan las observaciones de entrenamiento para identificar y estimar un modelo ARIMA. Con este se proyecta la siguiente observación (la primera de las observaciones de prueba). \n",
        "Se compara la observación proyectada $\\hat{y}_{t}$ con la observación real $y_t$. Luego, se vuelve a identificar y estimar el modelo con la observación real $y_t$ para proyectar la observacion $y_{t+1}$"
      ]
    },
    {
      "cell_type": "code",
      "metadata": {
        "id": "axEocfmcIKHL"
      },
      "source": [
        ""
      ],
      "execution_count": null,
      "outputs": []
    },
    {
      "cell_type": "markdown",
      "metadata": {
        "id": "Mr0YR8O9zYSs"
      },
      "source": [
        "## **Con statsmodels**\n",
        "\n",
        "**PRECAUCIÓN**: casi se me rompe la computadora cuando corrí este bloque."
      ]
    },
    {
      "cell_type": "code",
      "metadata": {
        "id": "aOJoKKgnNEvQ",
        "cellView": "code"
      },
      "source": [
        "#@title Default title text\n",
        "\n",
        "logret_spblpgpt = logret_series.iloc[:,1].dropna()\n",
        "logret_spblpgpt = logret_spblpgpt # ¡¡¡¡CAMBIAR!!!!\n",
        "\n",
        "serie = logret_spblpgpt.values\n",
        "train, test = train_test_split(serie, test_size=0.33, shuffle=False)\n",
        "print('Train')\n",
        "print('Inicio:', train.index[0].strftime('%d-%m-%Y'), '| Fin:', train.index[-1].strftime('%d-%m-%Y'), '| Observaciones', train.shape[0])\n",
        "print('')\n",
        "print('Test')\n",
        "print('Inicio:', test.index[0].strftime('%d-%m-%Y'), '| Fin:',test.index[-1].strftime('%d-%m-%Y'), '| Observaciones', test.shape[0])\n",
        "print('')\n",
        "print('')\n",
        "\n",
        "# Identificación del modelo\n",
        "\n",
        "#identificacion_arima"
      ],
      "execution_count": null,
      "outputs": []
    },
    {
      "cell_type": "code",
      "metadata": {
        "colab": {
          "base_uri": "https://localhost:8080/"
        },
        "id": "scJyYli_u-E_",
        "outputId": "bf92457a-b4cd-42a5-8e1e-1aa0ca7c6958"
      },
      "source": [
        "logret_spblpgpt = logret_series.iloc[:,1].dropna()\n",
        "logret_spblpgpt = logret_spblpgpt "
      ],
      "execution_count": null,
      "outputs": [
        {
          "output_type": "execute_result",
          "data": {
            "text/plain": [
              "Dates\n",
              "2002-02-07    0.483377\n",
              "2002-02-08    0.376809\n",
              "2002-02-11   -0.175562\n",
              "2002-02-12    0.015829\n",
              "2002-02-13    0.080689\n",
              "                ...   \n",
              "2021-05-25   -0.550173\n",
              "2021-05-26   -0.270503\n",
              "2021-05-27   -1.196186\n",
              "2021-05-28    5.239492\n",
              "2021-05-31    0.122451\n",
              "Name: spblpgpt, Length: 5038, dtype: float64"
            ]
          },
          "metadata": {
            "tags": []
          },
          "execution_count": 8
        }
      ]
    },
    {
      "cell_type": "code",
      "metadata": {
        "id": "8fX4ayGWdyyg"
      },
      "source": [
        "# De Brownlee p. 244\n",
        "\n",
        "# Identificación del modelo\n",
        "\n",
        "#identificacion_arima\n",
        "\n",
        "# División datos entre train y test\n",
        "serie = logret_spblpgpt.values\n",
        "train, test = train_test_split(serie, test_size=0.33, shuffle=False)\n",
        "\n",
        "\n",
        "import warnings\n",
        "warnings.filterwarnings(\"ignore\")\n",
        "\n",
        "\n",
        "\n",
        "# Estimación continua del modelo\n",
        "def proyeccion_arima(serie, orden):\n",
        "    proyectado = list()\n",
        "\n",
        "  for t in range(len(test)):\n",
        "    # Estimación de coeficientes\n",
        "    modelo = ARIMA(observado, order = orden)\n",
        "    modelo_estimado = modelo.fit(disp=0)\n",
        "    yhat = modelo_estimado.forecast()[0]\n",
        "    proyectado.append(yhat)\n",
        "    observado.append(test[t])\n",
        "    #print('proyectado=%f , observado=%f ' % (yhat, test[t])) # PRECAUCION\n",
        "\n",
        "  # Evaluación de la proyección\n",
        "  rmse = math.sqrt(mean_squared_error(test, proyectado))\n",
        "  return rmse\n",
        "  print('')\n",
        "  #print('Valor RMSE: %.3f' % rmse) # PRECAUCION\n",
        "  print('')\n",
        "\n",
        "\n",
        "\n",
        "def identificacion_arima(serie, p_valor, d_valor, q_valor):\n",
        "  '''Función que identifica los componentes del modelo iterando entre diferentes\n",
        "     valores para p, d y q'''\n",
        "\n",
        "  serie = serie.astype('float32')\n",
        "  best_score, best_cfg = float('inf'), None #¿?\n",
        "\n",
        "  for p in p_valor:\n",
        "    for d in d_valor:\n",
        "      for q in q_valor:\n",
        "        orden = (p, d, q)\n",
        "        try:\n",
        "          rmse = proyeccion_arima(serie, orden)\n",
        "          if rmse < best_score:\n",
        "            best_score, best_cfg = rmse, order\n",
        "          print('ARIMA: ', order, ' RMSE: ', rmse)\n",
        "        except:\n",
        "          continue\n",
        "  print('Mejor modelo ARIMA: ', best_cfg, ' RMSE: ', best_score)"
      ],
      "execution_count": null,
      "outputs": []
    },
    {
      "cell_type": "code",
      "metadata": {
        "id": "bHwT-wBjgo4A"
      },
      "source": [
        "warnings.filterwarnings('ignore')\n",
        "\n",
        "p_values = range(6)\n",
        "d_values = range(6)\n",
        "q_values = range(6)\n",
        "\n",
        "identificacion_arima(serie, p_values, d_values, q_values)"
      ],
      "execution_count": null,
      "outputs": []
    },
    {
      "cell_type": "code",
      "metadata": {
        "colab": {
          "base_uri": "https://localhost:8080/"
        },
        "id": "NADnK8JhjEhL",
        "outputId": "7ee36c37-6743-499a-c944-90a2bb63ed00"
      },
      "source": [
        "test"
      ],
      "execution_count": null,
      "outputs": [
        {
          "output_type": "execute_result",
          "data": {
            "text/plain": [
              "array([-0.51611048, -0.51109398,  0.        ,  0.        ,  0.62202277,\n",
              "       -0.32011545,  0.11958881, -1.10084657,  0.20274408, -0.28953888,\n",
              "        0.05890468,  0.3102265 , -1.54672552, -0.05885284, -0.36960188,\n",
              "        0.53900438,  0.02428887])"
            ]
          },
          "metadata": {
            "tags": []
          },
          "execution_count": 26
        }
      ]
    },
    {
      "cell_type": "code",
      "metadata": {
        "colab": {
          "base_uri": "https://localhost:8080/",
          "height": 331
        },
        "id": "Bt3kMeMijVBm",
        "outputId": "aa46f314-547c-4e0c-8d70-b83d021d8a22"
      },
      "source": [
        "logret_spblpgpt.plot()"
      ],
      "execution_count": null,
      "outputs": [
        {
          "output_type": "execute_result",
          "data": {
            "text/plain": [
              "<matplotlib.axes._subplots.AxesSubplot at 0x7fc6a095bf90>"
            ]
          },
          "metadata": {
            "tags": []
          },
          "execution_count": 11
        },
        {
          "output_type": "display_data",
          "data": {
            "image/png": "[encoded data removed]",
            "text/plain": [
              "<Figure size 432x288 with 1 Axes>"
            ]
          },
          "metadata": {
            "tags": [],
            "needs_background": "light"
          }
        }
      ]
    },
    {
      "cell_type": "code",
      "metadata": {
        "id": "PSTCr75yIFH_"
      },
      "source": [
        ""
      ],
      "execution_count": null,
      "outputs": []
    },
    {
      "cell_type": "code",
      "metadata": {
        "id": "YMtTMt-6IIH-"
      },
      "source": [
        ""
      ],
      "execution_count": null,
      "outputs": []
    },
    {
      "cell_type": "markdown",
      "metadata": {
        "id": "le9FDIPPe4or"
      },
      "source": [
        "## Referencias: \n",
        "\n",
        "Seabold, Skipper, and Josef Perktold. “Statsmodels: Econometric and Statistical Modeling with Python.” 9th Python in Science Conference, 2010. "
      ]
    }
  ]
}