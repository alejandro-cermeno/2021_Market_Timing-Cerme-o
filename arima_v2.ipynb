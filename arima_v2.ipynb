{
  "nbformat": 4,
  "nbformat_minor": 0,
  "metadata": {
    "colab": {
      "name": "arima",
      "provenance": [],
      "collapsed_sections": [],
      "authorship_tag": "ABX9TyN0EnALXUljOskYQls89XI8",
      "include_colab_link": true
    },
    "kernelspec": {
      "name": "python3",
      "display_name": "Python 3"
    },
    "language_info": {
      "name": "python"
    }
  },
  "cells": [
    {
      "cell_type": "markdown",
      "metadata": {
        "id": "view-in-github",
        "colab_type": "text"
      },
      "source": [
        "<a href=\"https://colab.research.google.com/github/alejandro-cermeno/2021_Market_Timing-Cermeno/blob/main/arima_v2.ipynb\" target=\"_parent\"><img src=\"https://colab.research.google.com/assets/colab-badge.svg\" alt=\"Open In Colab\"/></a>"
      ]
    },
    {
      "cell_type": "markdown",
      "metadata": {
        "id": "mCP31AjbPLCf"
      },
      "source": [
        "\n",
        "### El modelo ARIMA de Box and Jenkins (1970)\n",
        "\n",
        "Alejandro Cermeño \n",
        "\n",
        "06/2021"
      ]
    },
    {
      "cell_type": "markdown",
      "metadata": {
        "id": "2b2R4-mnqfkO"
      },
      "source": [
        "## Procedimientos preliminares\n",
        "\n",
        "\n",
        "\n",
        "1.   Se importan las librerías necesarias\n",
        "2.   Se importan las series de precios\n",
        "3.   Se calcula el logaritmo de los retornos\n",
        "4.   Estadísticos descriptivos\n",
        "5.   Se configura el output en ${\\LaTeX}$"
      ]
    },
    {
      "cell_type": "code",
      "metadata": {
        "colab": {
          "base_uri": "https://localhost:8080/",
          "height": 397
        },
        "id": "MIel4eW3PUOq",
        "outputId": "5f51e97d-6dcd-420a-f435-849b35391a6f"
      },
      "source": [
        "# Configuración premiliminar\n",
        "\n",
        "    # Librerias necesarias\n",
        "import os\n",
        "import pandas as pd\n",
        "import numpy as np\n",
        "from IPython.display import Image\n",
        "\n",
        "import matplotlib.pyplot as plt\n",
        "import matplotlib.gridspec as gridspec\n",
        "from matplotlib import pyplot\n",
        "import math\n",
        "\n",
        "import statsmodels.api as sm\n",
        "from statsmodels.tsa.stattools import adfuller\n",
        "from statsmodels.graphics.tsaplots import plot_acf,plot_pacf\n",
        "from statsmodels.tsa.arima_model import ARIMA\n",
        "\n",
        "from sklearn.metrics import  mean_squared_error\n",
        "from sklearn.model_selection import train_test_split\n",
        "\n",
        "from google.colab import drive\n",
        "\n",
        "    # Directorio \n",
        "#drive.mount('/content/drive')\n",
        "\n",
        "#os.chdir('/content/drive/MyDrive/TESIS/2021_Market_Timing-Cermeño/Code')\n",
        "\n",
        "# Obtencion de datos\n",
        "ruta_git = 'https://git.io/Jnovh'\n",
        "series = pd.read_excel(ruta_git, sheet_name = 'source', index_col = 0)\n",
        "series.head()\n",
        "\n",
        "# Transformacion a retornos logarítmicos\n",
        "logret_series = (100 * (np.log(series) - np.log(series.shift(1))))\n",
        "logret_series.tail()\n",
        "\n",
        "# Tabla de estadisticos descriptivos\n",
        "descriptivos = pd.concat([logret_series.describe()\\\n",
        "                          .loc[['count','std', 'min', 'max']].T, \n",
        "                          series.skew().rename('skew'),series.kurt().\\\n",
        "                          rename('kurt')], axis=1).round(2)\n",
        "    # Se agregan las fechas de inicio\n",
        "fecha_inicio = logret_series.apply(lambda logret_series: logret_series.first_valid_index())\n",
        "fecha_inicio = pd.DataFrame(fecha_inicio, columns=['Fecha Inicio'])\n",
        "    # Se agregan las fechas de fin\n",
        "fecha_fin = logret_series.apply(lambda logret_series: logret_series.last_valid_index())\n",
        "fecha_fin = pd.DataFrame(fecha_fin, columns=['Fecha Fin'])\n",
        "\n",
        "descriptivos = pd.concat([fecha_inicio, fecha_fin, descriptivos], axis = 1)\n",
        "\n",
        "    # Se muestra la tabla resultante\n",
        "display(descriptivos)\n",
        "print('')\n",
        "print('')\n",
        "print('LaTeX')\n",
        "print('')\n",
        "print(descriptivos.to_latex()) # Se configura el output a LaTeX"
      ],
      "execution_count": 3,
      "outputs": [
        {
          "output_type": "display_data",
          "data": {
            "text/html": [
              "<div>\n",
              "<style scoped>\n",
              "    .dataframe tbody tr th:only-of-type {\n",
              "        vertical-align: middle;\n",
              "    }\n",
              "\n",
              "    .dataframe tbody tr th {\n",
              "        vertical-align: top;\n",
              "    }\n",
              "\n",
              "    .dataframe thead th {\n",
              "        text-align: right;\n",
              "    }\n",
              "</style>\n",
              "<table border=\"1\" class=\"dataframe\">\n",
              "  <thead>\n",
              "    <tr style=\"text-align: right;\">\n",
              "      <th></th>\n",
              "      <th>Fecha Inicio</th>\n",
              "      <th>Fecha Fin</th>\n",
              "      <th>count</th>\n",
              "      <th>std</th>\n",
              "      <th>min</th>\n",
              "      <th>max</th>\n",
              "      <th>skew</th>\n",
              "      <th>kurt</th>\n",
              "    </tr>\n",
              "  </thead>\n",
              "  <tbody>\n",
              "    <tr>\n",
              "      <th>mexbol</th>\n",
              "      <td>1994-03-31</td>\n",
              "      <td>2021-05-31</td>\n",
              "      <td>7088.0</td>\n",
              "      <td>1.40</td>\n",
              "      <td>-14.31</td>\n",
              "      <td>12.15</td>\n",
              "      <td>0.04</td>\n",
              "      <td>-1.65</td>\n",
              "    </tr>\n",
              "    <tr>\n",
              "      <th>spblpgpt</th>\n",
              "      <td>2002-02-07</td>\n",
              "      <td>2021-05-31</td>\n",
              "      <td>5038.0</td>\n",
              "      <td>1.34</td>\n",
              "      <td>-13.29</td>\n",
              "      <td>12.82</td>\n",
              "      <td>-0.58</td>\n",
              "      <td>-0.96</td>\n",
              "    </tr>\n",
              "    <tr>\n",
              "      <th>ipsa</th>\n",
              "      <td>1990-08-09</td>\n",
              "      <td>2021-05-31</td>\n",
              "      <td>8038.0</td>\n",
              "      <td>1.14</td>\n",
              "      <td>-15.22</td>\n",
              "      <td>11.80</td>\n",
              "      <td>0.28</td>\n",
              "      <td>-1.41</td>\n",
              "    </tr>\n",
              "  </tbody>\n",
              "</table>\n",
              "</div>"
            ],
            "text/plain": [
              "         Fecha Inicio  Fecha Fin   count   std    min    max  skew  kurt\n",
              "mexbol     1994-03-31 2021-05-31  7088.0  1.40 -14.31  12.15  0.04 -1.65\n",
              "spblpgpt   2002-02-07 2021-05-31  5038.0  1.34 -13.29  12.82 -0.58 -0.96\n",
              "ipsa       1990-08-09 2021-05-31  8038.0  1.14 -15.22  11.80  0.28 -1.41"
            ]
          },
          "metadata": {
            "tags": []
          }
        },
        {
          "output_type": "stream",
          "text": [
            "\n",
            "\n",
            "LaTeX\n",
            "\n",
            "\\begin{tabular}{lllrrrrrr}\n",
            "\\toprule\n",
            "{} & Fecha Inicio &  Fecha Fin &   count &   std &    min &    max &  skew &  kurt \\\\\n",
            "\\midrule\n",
            "mexbol   &   1994-03-31 & 2021-05-31 &  7088.0 &  1.40 & -14.31 &  12.15 &  0.04 & -1.65 \\\\\n",
            "spblpgpt &   2002-02-07 & 2021-05-31 &  5038.0 &  1.34 & -13.29 &  12.82 & -0.58 & -0.96 \\\\\n",
            "ipsa     &   1990-08-09 & 2021-05-31 &  8038.0 &  1.14 & -15.22 &  11.80 &  0.28 & -1.41 \\\\\n",
            "\\bottomrule\n",
            "\\end{tabular}\n",
            "\n"
          ],
          "name": "stdout"
        }
      ]
    },
    {
      "cell_type": "markdown",
      "metadata": {
        "id": "GqZyU1Q6lm2s"
      },
      "source": [
        "## **Gráficos**"
      ]
    },
    {
      "cell_type": "code",
      "metadata": {
        "id": "wp_pbXBPlogS"
      },
      "source": [
        "def grafico(df):\n",
        "  # Numero de filas y columnas\n",
        "  nrows = math.ceil(df.shape[1] / 2) # Cantidad de series entre 2\n",
        "  ncols = 2\n",
        "  fig, axes = plt.subplots(nrows, ncols, figsize=(16, 8))\n",
        "  for col, ax in zip(df.columns, axes.flatten()):\n",
        "    ax.plot(df.index, df[col], c = 'navy', linewidth = 0.5)\n",
        "    ax.set_title(col, fontsize=15)"
      ],
      "execution_count": null,
      "outputs": []
    },
    {
      "cell_type": "markdown",
      "metadata": {
        "id": "iE3Ca8j6lqiq"
      },
      "source": [
        "Precios"
      ]
    },
    {
      "cell_type": "code",
      "metadata": {
        "id": "lcP3uMZElujn"
      },
      "source": [
        "grafico(series)"
      ],
      "execution_count": null,
      "outputs": []
    },
    {
      "cell_type": "markdown",
      "metadata": {
        "id": "RJOldjyKlrvP"
      },
      "source": [
        "Logaritmo de los retornos"
      ]
    },
    {
      "cell_type": "code",
      "metadata": {
        "id": "yAvWIPvglxo0"
      },
      "source": [
        "grafico(logret_series)"
      ],
      "execution_count": null,
      "outputs": []
    },
    {
      "cell_type": "markdown",
      "metadata": {
        "id": "wy0QHELcmAW-"
      },
      "source": [
        "## **Pruebas de raíz unitaria**\n",
        "\n",
        "Se utiliza la librería arch de [Sheppard (2021)](https://(https://arch.readthedocs.io/en/latest/)) "
      ]
    },
    {
      "cell_type": "code",
      "metadata": {
        "id": "4d3ZVl5Gp0IF"
      },
      "source": [
        "%%capture\n",
        "#!pip install arch\n",
        "import arch"
      ],
      "execution_count": null,
      "outputs": []
    },
    {
      "cell_type": "markdown",
      "metadata": {
        "id": "mumvJE_YoSem"
      },
      "source": [
        "Prueba de Dickey-Fuller Aumentada (ADF)"
      ]
    },
    {
      "cell_type": "code",
      "metadata": {
        "id": "Y68OMnFjmGI9"
      },
      "source": [
        "arch.unitroot.ADF(method='AIC')"
      ],
      "execution_count": null,
      "outputs": []
    },
    {
      "cell_type": "markdown",
      "metadata": {
        "id": "5Ivx343yoT9Y"
      },
      "source": [
        "Prueba de Elliott, Rothenberg and Stock (ADF-GLS)"
      ]
    },
    {
      "cell_type": "code",
      "metadata": {
        "id": "gHm3Q-LEmGLC"
      },
      "source": [
        "arch.unitroot.DFGLS(method='AIC')"
      ],
      "execution_count": null,
      "outputs": []
    },
    {
      "cell_type": "code",
      "metadata": {
        "id": "kLnShee6UELn"
      },
      "source": [
        "nrows = math.ceil(series.shape[1] / 2) # Cantidad filas y columnas\n",
        "paises = ['(a) Mexico', '(b) Peru', '(c) Chile']\n",
        "fig, axes = plt.subplots(nrows, ncols=2, figsize=(15, 8))\n",
        "\n",
        "# i fila\n",
        "# j columna\n",
        "\n",
        "for i in range(2):                # Número de fila\n",
        "  for j in range(nrows):          # Número de columna\n",
        "    #for k in range(len(paises)):  # Serie\n",
        "    axes[i,j].plot(logret_series.iloc[:, i], c = 'navy', linewidth = 0.4)\n"
      ],
      "execution_count": null,
      "outputs": []
    },
    {
      "cell_type": "code",
      "metadata": {
        "id": "8LCJHPJ1C5F7"
      },
      "source": [
        "# Autocorrelograma\n",
        "\n",
        "logret_spblpgpt = logret_series.iloc[:,1].dropna()\n",
        "logret_spblpgpt = logret_spblpgpt[0:20] # ¡¡¡¡CAMBIAR!!!!\n",
        "\n",
        "# Gráfico de Autocorrelación y Autocorrelación Parcial\n",
        "\n",
        "for i in range(len(logret_series)):\n",
        "  fig = plt.figure(figsize=(10,6))\n",
        "  ax1 = fig.add_subplot(211)\n",
        "  # Grafico ACF\n",
        "  fig = sm.graphics.tsa.plot_acf((logret_series[i]),lags=25,ax=ax1, \n",
        "                                 title ='Autocorrelation '+pais[i])\n",
        "  ax2 = fig.add_subplot(212)\n",
        "  # Grafico PACF\n",
        "  fig = sm.graphics.tsa.plot_pacf(logret_series[i].dropna(),lags=25,ax=ax2, \n",
        "                                  title ='Autocorrelacion Parcial')"
      ],
      "execution_count": null,
      "outputs": []
    },
    {
      "cell_type": "code",
      "metadata": {
        "id": "TOeWk_ll4hOH"
      },
      "source": [
        "# Inspeccion de estacionariedad para precios\n",
        "\n",
        "pais = ['MEXICO', 'PERU', 'CHILE']\n",
        "\n",
        "      # Prueba ADF \n",
        "def prueba_adfuller(df):\n",
        "\n",
        "  '''Esta función configura el formato del output de la función adfuller()'''\n",
        "\n",
        "  for i in range(len(series)):\n",
        "    print('Para', pais[i])\n",
        "    result=adfuller(df[i])\n",
        "    labels = ['Estadistico ADF','p-value','# rezagos','# Observaci\\\n",
        "    ones']\n",
        "    for value,label in zip(result,labels):\n",
        "      print(label+' : '+str(value) )\n",
        "    if result[1] <= 0.05: # Si p-value menor o igual a 0.5\n",
        "      print('')\n",
        "      print(\"Se rechaza la H_0, la serie es estacionaria\")\n",
        "      print('')\n",
        "      print('')\n",
        "    else:\n",
        "      print('')\n",
        "      print(\"Evidencia debil contra la H_0, la serie no es \\\n",
        "      estacionaria\")\n",
        "      print('')\n",
        "      print('')\n",
        "\n",
        "prueba_adfuller(series)"
      ],
      "execution_count": null,
      "outputs": []
    },
    {
      "cell_type": "code",
      "metadata": {
        "id": "CrVU3G_J4mWn"
      },
      "source": [
        "# Prueba Phillips y Perron"
      ],
      "execution_count": null,
      "outputs": []
    },
    {
      "cell_type": "code",
      "metadata": {
        "id": "kTe78KLh_RhU"
      },
      "source": [
        ""
      ],
      "execution_count": null,
      "outputs": []
    },
    {
      "cell_type": "markdown",
      "metadata": {
        "id": "n-eUwCiN7f6c"
      },
      "source": [
        "# **Modelo ARIMA**\n",
        "\n",
        "**AR** - AutoRegressive\\\n",
        "**I** - Integrated\\\n",
        "**MA** - Moving *Average*\n",
        "\n",
        "\n",
        "\n",
        "1.   Identificación del modelo\n",
        "2.   Estimación de parámetros\n",
        "\n",
        "$$\\hat{y}_{t}=\\mu+\\sum_{i=1}^{p}a_{i}y_{t-i}+\\sum_{i=1}^{q}b_{i}\\epsilon_{t-i}+\\epsilon_{t}$$\n",
        "\n",
        "\n",
        "$$\\epsilon_{t}=\\sqrt{\\sigma_{t}z_{t}},\\,\\sigma^{2}=\\omega+\\sum_{i=1}^{p}\\alpha_{i}\\epsilon_{t-i}^{2}+\\sum_{i=1}^{q}\\beta_{i}\\sigma_{t-i}^{2}$$\n",
        "\n"
      ]
    },
    {
      "cell_type": "markdown",
      "metadata": {
        "id": "_mCHoZxjFYp5"
      },
      "source": [
        "Algoritmo para proyección continua (rolling forecast)\n",
        "\n",
        "Se usan las observaciones de entrenamiento para identificar y estimar un modelo ARIMA. Con este se proyecta la siguiente observación (la primera de las observaciones de prueba). \n",
        "Se compara la observación proyectada $\\hat{y}_{t}$ con la observación real $y_t$. Luego, se vuelve a identificar y estimar el modelo con la observación real $y_t$ para proyectar la observacion $y_{t+1}$"
      ]
    },
    {
      "cell_type": "code",
      "metadata": {
        "id": "axEocfmcIKHL"
      },
      "source": [
        ""
      ],
      "execution_count": null,
      "outputs": []
    },
    {
      "cell_type": "markdown",
      "metadata": {
        "id": "Mr0YR8O9zYSs"
      },
      "source": [
        "## **Con statsmodels**\n",
        "\n",
        "**PRECAUCIÓN**: casi se me rompe la computadora cuando corrí este bloque."
      ]
    },
    {
      "cell_type": "code",
      "metadata": {
        "id": "aOJoKKgnNEvQ",
        "cellView": "code"
      },
      "source": [
        "#@title Default title text\n",
        "\n",
        "logret_spblpgpt = logret_series.iloc[:,1].dropna()\n",
        "logret_spblpgpt = logret_spblpgpt # ¡¡¡¡CAMBIAR!!!!\n",
        "\n",
        "serie = logret_spblpgpt.values\n",
        "train, test = train_test_split(serie, test_size=0.33, shuffle=False)\n",
        "print('Train')\n",
        "print('Inicio:', train.index[0].strftime('%d-%m-%Y'), '| Fin:', train.index[-1].strftime('%d-%m-%Y'), '| Observaciones', train.shape[0])\n",
        "print('')\n",
        "print('Test')\n",
        "print('Inicio:', test.index[0].strftime('%d-%m-%Y'), '| Fin:',test.index[-1].strftime('%d-%m-%Y'), '| Observaciones', test.shape[0])\n",
        "print('')\n",
        "print('')\n",
        "\n",
        "# Identificación del modelo\n",
        "\n",
        "#identificacion_arima"
      ],
      "execution_count": null,
      "outputs": []
    },
    {
      "cell_type": "code",
      "metadata": {
        "colab": {
          "base_uri": "https://localhost:8080/"
        },
        "id": "scJyYli_u-E_",
        "outputId": "bf92457a-b4cd-42a5-8e1e-1aa0ca7c6958"
      },
      "source": [
        "logret_spblpgpt = logret_series.iloc[:,1].dropna()\n",
        "logret_spblpgpt = logret_spblpgpt "
      ],
      "execution_count": null,
      "outputs": [
        {
          "output_type": "execute_result",
          "data": {
            "text/plain": [
              "Dates\n",
              "2002-02-07    0.483377\n",
              "2002-02-08    0.376809\n",
              "2002-02-11   -0.175562\n",
              "2002-02-12    0.015829\n",
              "2002-02-13    0.080689\n",
              "                ...   \n",
              "2021-05-25   -0.550173\n",
              "2021-05-26   -0.270503\n",
              "2021-05-27   -1.196186\n",
              "2021-05-28    5.239492\n",
              "2021-05-31    0.122451\n",
              "Name: spblpgpt, Length: 5038, dtype: float64"
            ]
          },
          "metadata": {
            "tags": []
          },
          "execution_count": 8
        }
      ]
    },
    {
      "cell_type": "code",
      "metadata": {
        "id": "8fX4ayGWdyyg"
      },
      "source": [
        "# De Brownlee p. 244\n",
        "\n",
        "# Identificación del modelo\n",
        "\n",
        "#identificacion_arima\n",
        "\n",
        "# División datos entre train y test\n",
        "serie = logret_spblpgpt.values\n",
        "train, test = train_test_split(serie, test_size=0.33, shuffle=False)\n",
        "\n",
        "\n",
        "import warnings\n",
        "warnings.filterwarnings(\"ignore\")\n",
        "\n",
        "\n",
        "\n",
        "# Estimación continua del modelo\n",
        "def proyeccion_arima(serie, orden):\n",
        "    proyectado = list()\n",
        "\n",
        "  for t in range(len(test)):\n",
        "    # Estimación de coeficientes\n",
        "    modelo = ARIMA(observado, order = orden)\n",
        "    modelo_estimado = modelo.fit(disp=0)\n",
        "    yhat = modelo_estimado.forecast()[0]\n",
        "    proyectado.append(yhat)\n",
        "    observado.append(test[t])\n",
        "    #print('proyectado=%f , observado=%f ' % (yhat, test[t])) # PRECAUCION\n",
        "\n",
        "  # Evaluación de la proyección\n",
        "  rmse = math.sqrt(mean_squared_error(test, proyectado))\n",
        "  return rmse\n",
        "  print('')\n",
        "  #print('Valor RMSE: %.3f' % rmse) # PRECAUCION\n",
        "  print('')\n",
        "\n",
        "\n",
        "\n",
        "def identificacion_arima(serie, p_valor, d_valor, q_valor):\n",
        "  '''Función que identifica los componentes del modelo iterando entre diferentes\n",
        "     valores para p, d y q'''\n",
        "\n",
        "  serie = serie.astype('float32')\n",
        "  best_score, best_cfg = float('inf'), None #¿?\n",
        "\n",
        "  for p in p_valor:\n",
        "    for d in d_valor:\n",
        "      for q in q_valor:\n",
        "        orden = (p, d, q)\n",
        "        try:\n",
        "          rmse = proyeccion_arima(serie, orden)\n",
        "          if rmse < best_score:\n",
        "            best_score, best_cfg = rmse, order\n",
        "          print('ARIMA: ', order, ' RMSE: ', rmse)\n",
        "        except:\n",
        "          continue\n",
        "  print('Mejor modelo ARIMA: ', best_cfg, ' RMSE: ', best_score)"
      ],
      "execution_count": null,
      "outputs": []
    },
    {
      "cell_type": "code",
      "metadata": {
        "id": "bHwT-wBjgo4A"
      },
      "source": [
        "warnings.filterwarnings('ignore')\n",
        "\n",
        "p_values = range(6)\n",
        "d_values = range(6)\n",
        "q_values = range(6)\n",
        "\n",
        "identificacion_arima(serie, p_values, d_values, q_values)"
      ],
      "execution_count": null,
      "outputs": []
    },
    {
      "cell_type": "code",
      "metadata": {
        "colab": {
          "base_uri": "https://localhost:8080/"
        },
        "id": "NADnK8JhjEhL",
        "outputId": "7ee36c37-6743-499a-c944-90a2bb63ed00"
      },
      "source": [
        "test"
      ],
      "execution_count": null,
      "outputs": [
        {
          "output_type": "execute_result",
          "data": {
            "text/plain": [
              "array([-0.51611048, -0.51109398,  0.        ,  0.        ,  0.62202277,\n",
              "       -0.32011545,  0.11958881, -1.10084657,  0.20274408, -0.28953888,\n",
              "        0.05890468,  0.3102265 , -1.54672552, -0.05885284, -0.36960188,\n",
              "        0.53900438,  0.02428887])"
            ]
          },
          "metadata": {
            "tags": []
          },
          "execution_count": 26
        }
      ]
    },
    {
      "cell_type": "code",
      "metadata": {
        "colab": {
          "base_uri": "https://localhost:8080/",
          "height": 331
        },
        "id": "Bt3kMeMijVBm",
        "outputId": "aa46f314-547c-4e0c-8d70-b83d021d8a22"
      },
      "source": [
        "logret_spblpgpt.plot()"
      ],
      "execution_count": null,
      "outputs": [
        {
          "output_type": "execute_result",
          "data": {
            "text/plain": [
              "<matplotlib.axes._subplots.AxesSubplot at 0x7fc6a095bf90>"
            ]
          },
          "metadata": {
            "tags": []
          },
          "execution_count": 11
        },
        {
          "output_type": "display_data",
          "data": {
            "image/png": "[encoded data removed]",
            "text/plain": [
              "<Figure size 432x288 with 1 Axes>"
            ]
          },
          "metadata": {
            "tags": [],
            "needs_background": "light"
          }
        }
      ]
    },
    {
      "cell_type": "code",
      "metadata": {
        "id": "PSTCr75yIFH_"
      },
      "source": [
        ""
      ],
      "execution_count": null,
      "outputs": []
    },
    {
      "cell_type": "code",
      "metadata": {
        "id": "YMtTMt-6IIH-"
      },
      "source": [
        ""
      ],
      "execution_count": null,
      "outputs": []
    }
  ]
}